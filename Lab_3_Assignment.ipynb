{
  "nbformat": 4,
  "nbformat_minor": 0,
  "metadata": {
    "colab": {
      "name": "Lab 3 Assignment",
      "provenance": [],
      "authorship_tag": "ABX9TyM+xMgjFE7YfSKPNSSczgNn",
      "include_colab_link": true
    },
    "kernelspec": {
      "name": "python3",
      "display_name": "Python 3"
    },
    "language_info": {
      "name": "python"
    },
    "accelerator": "GPU"
  },
  "cells": [
    {
      "cell_type": "markdown",
      "metadata": {
        "id": "view-in-github",
        "colab_type": "text"
      },
      "source": [
        "<a href=\"https://colab.research.google.com/github/Boshjiggs1/IST-718-Big-Data-Analytics/blob/main/Lab_3_Assignment.ipynb\" target=\"_parent\"><img src=\"https://colab.research.google.com/assets/colab-badge.svg\" alt=\"Open In Colab\"/></a>"
      ]
    },
    {
      "cell_type": "markdown",
      "source": [
        "Josh Biggs-Bauer\n",
        "\n",
        "IST 718\n",
        "\n",
        "3/13/2022\n",
        "\n",
        "\n",
        "                                          Lab 3\n",
        "\n",
        "\n",
        "\n"
      ],
      "metadata": {
        "id": "mu_N_MCxSerd"
      }
    },
    {
      "cell_type": "markdown",
      "source": [
        "# Import data and required python libraries\n"
      ],
      "metadata": {
        "id": "T1hcnnY_N0k3"
      }
    },
    {
      "cell_type": "code",
      "execution_count": null,
      "metadata": {
        "id": "vCZTiYmx-D8v"
      },
      "outputs": [],
      "source": [
        "path = '/content/drive/MyDrive/IST 718'"
      ]
    },
    {
      "cell_type": "code",
      "source": [
        "from tensorflow.keras import datasets             \n",
        "\n",
        "from sklearn.metrics import confusion_matrix      \n",
        "import matplotlib.pyplot as plt                   \n",
        "import numpy as np                                \n",
        "import seaborn as sns; sns.set()                  \n",
        "from sklearn.metrics import classification_report \n",
        "from tensorflow.keras.utils import to_categorical \n",
        "from tensorflow.keras import layers               \n",
        "\n",
        "from tensorflow.keras import Sequential           \n",
        "from keras.callbacks import ModelCheckpoint       \n",
        "from sklearn.naive_bayes import GaussianNB       \n",
        "from sklearn.tree import DecisionTreeClassifier   \n",
        "import os\n",
        "import struct\n",
        "import numpy as np\n",
        "import pandas as pd\n",
        "import seaborn as sns\n",
        "import time\n",
        "import matplotlib.pyplot as plt\n",
        "import sys\n",
        "from keras.models import Sequential\n",
        "from keras.layers import Conv2D, MaxPooling2D, BatchNormalization\n",
        "from keras.layers import Activation, Dropout, Flatten, Dense\n",
        "from sklearn.linear_model import LogisticRegression\n",
        "from sklearn.linear_model import SGDClassifier\n",
        "\n",
        "%matplotlib inline"
      ],
      "metadata": {
        "id": "81hCU8Em-Ojo"
      },
      "execution_count": null,
      "outputs": []
    },
    {
      "cell_type": "markdown",
      "source": [
        "# MNIST Fashion Dataset\n",
        "\n",
        "The MNIST datase used in this lab is a set of clothing images/catalog of Zalando(European e-commerce company based in Berlin). The dataset consists of 60,000 records, and 10,000 in the test set. \n",
        "\n",
        "\n",
        "## Load The Data\n",
        "MNIST fashion dataset is already in tensorflow keras library.\n",
        "\n",
        "Data reference:\n",
        "\n",
        "x_train contains the training images\n",
        "y_train contains labels for each image\n",
        "x_test contains the testing images\n",
        "y_test contains labels for each image\n",
        "Label referene:\n",
        "\n",
        "0 = t-shirt\n",
        "1 = trouser\n",
        "2 = pullover\n",
        "3 = dress\n",
        "4 = coat\n",
        "5 = sandal\n",
        "6 = shirt\n",
        "7 = sneaker\n",
        "8 = bag\n",
        "9 = angle-boot"
      ],
      "metadata": {
        "id": "vg-9cxxGOCcQ"
      }
    },
    {
      "cell_type": "markdown",
      "source": [],
      "metadata": {
        "id": "2_Cf6X-cOCWA"
      }
    },
    {
      "cell_type": "code",
      "source": [
        "# Load data from tenserflow keras\n",
        "(x_train, y_train), (x_test, y_test) = datasets.fashion_mnist.load_data()\n",
        "\n",
        "# Label names according to label reference\n",
        "label_name = ['t-shirt', 'trouser', 'pullover', 'dress', 'coat',\n",
        "              'sandal', 'shirt', 'sneaker', 'bag', 'angle-boot']"
      ],
      "metadata": {
        "colab": {
          "base_uri": "https://localhost:8080/"
        },
        "id": "4Qcn7veE-SzS",
        "outputId": "082fbf3a-2503-4f85-b8b2-d58395e509fa"
      },
      "execution_count": null,
      "outputs": [
        {
          "output_type": "stream",
          "name": "stdout",
          "text": [
            "Downloading data from https://storage.googleapis.com/tensorflow/tf-keras-datasets/train-labels-idx1-ubyte.gz\n",
            "32768/29515 [=================================] - 0s 0us/step\n",
            "40960/29515 [=========================================] - 0s 0us/step\n",
            "Downloading data from https://storage.googleapis.com/tensorflow/tf-keras-datasets/train-images-idx3-ubyte.gz\n",
            "26427392/26421880 [==============================] - 0s 0us/step\n",
            "26435584/26421880 [==============================] - 0s 0us/step\n",
            "Downloading data from https://storage.googleapis.com/tensorflow/tf-keras-datasets/t10k-labels-idx1-ubyte.gz\n",
            "16384/5148 [===============================================================================================] - 0s 0us/step\n",
            "Downloading data from https://storage.googleapis.com/tensorflow/tf-keras-datasets/t10k-images-idx3-ubyte.gz\n",
            "4423680/4422102 [==============================] - 0s 0us/step\n",
            "4431872/4422102 [==============================] - 0s 0us/step\n"
          ]
        }
      ]
    },
    {
      "cell_type": "markdown",
      "source": [
        "# Normalize the Data\n",
        "\n",
        "Make sure the data is at the same scale."
      ],
      "metadata": {
        "id": "d0Klzed8O6Sl"
      }
    },
    {
      "cell_type": "code",
      "source": [
        "x_train = x_train.astype('float32') / 255\n",
        "x_test = x_test.astype('float32') / 255"
      ],
      "metadata": {
        "id": "pYqofKPp-Xsz"
      },
      "execution_count": null,
      "outputs": []
    },
    {
      "cell_type": "markdown",
      "source": [
        "# Visualize the data\n",
        "\n",
        "Visual of first 15 images with their labels."
      ],
      "metadata": {
        "id": "kuHTTsDgPBY1"
      }
    },
    {
      "cell_type": "code",
      "source": [
        "fig, ax = plt.subplots(3, 5)\n",
        "fig.tight_layout()\n",
        "for i, axi in enumerate(ax.flat):\n",
        "  axi.imshow(x_train[i])\n",
        "  axi.set_title(label_name[y_train[i]])\n",
        "plt.show()"
      ],
      "metadata": {
        "colab": {
          "base_uri": "https://localhost:8080/",
          "height": 294
        },
        "id": "8_YQ4Zk7-azf",
        "outputId": "6b66145d-6b09-4e0b-e0d7-48d9d3a291a1"
      },
      "execution_count": null,
      "outputs": [
        {
          "output_type": "display_data",
          "data": {
            "text/plain": [
              "<Figure size 432x288 with 15 Axes>"
            ],
            "image/png": "[encoded data removed]"
          },
          "metadata": {
            "needs_background": "light"
          }
        }
      ]
    },
    {
      "cell_type": "markdown",
      "source": [
        "#Gaussian Naive Bayes"
      ],
      "metadata": {
        "id": "GP_Vof67PMAk"
      }
    },
    {
      "cell_type": "code",
      "source": [
        "# Reshape input data to naive bayes algorithm\n",
        "w, h = 28, 28\n",
        "gnb_x_train = x_train.reshape(x_train.shape[0], w*h)\n",
        "gnb_x_test = x_test.reshape(x_test.shape[0], w*h)\n",
        "\n",
        "gnb_model = GaussianNB()\n",
        "%time gnb_model.fit(gnb_x_train, y_train)"
      ],
      "metadata": {
        "colab": {
          "base_uri": "https://localhost:8080/"
        },
        "id": "6OgNPGNY-dQj",
        "outputId": "a06d3c27-f252-431e-804f-49d0d83e0e9b"
      },
      "execution_count": null,
      "outputs": [
        {
          "output_type": "stream",
          "name": "stdout",
          "text": [
            "CPU times: user 277 ms, sys: 35.7 ms, total: 313 ms\n",
            "Wall time: 314 ms\n"
          ]
        },
        {
          "output_type": "execute_result",
          "data": {
            "text/plain": [
              "GaussianNB()"
            ]
          },
          "metadata": {},
          "execution_count": 7
        }
      ]
    },
    {
      "cell_type": "code",
      "source": [
        "gnb_y_fit = gnb_model.predict(gnb_x_test)"
      ],
      "metadata": {
        "id": "JPDUe85Y-gAq"
      },
      "execution_count": null,
      "outputs": []
    },
    {
      "cell_type": "code",
      "source": [
        "print(classification_report(y_test, gnb_y_fit, target_names=label_name))"
      ],
      "metadata": {
        "colab": {
          "base_uri": "https://localhost:8080/"
        },
        "id": "rPs3DUN1-krV",
        "outputId": "cbbcfdee-7a3e-43f1-89f1-dcd6f3503b39"
      },
      "execution_count": null,
      "outputs": [
        {
          "output_type": "stream",
          "name": "stdout",
          "text": [
            "              precision    recall  f1-score   support\n",
            "\n",
            "     t-shirt       0.81      0.59      0.68      1000\n",
            "     trouser       0.64      0.94      0.76      1000\n",
            "    pullover       0.59      0.32      0.42      1000\n",
            "       dress       0.44      0.55      0.49      1000\n",
            "        coat       0.38      0.78      0.51      1000\n",
            "      sandal       0.93      0.28      0.43      1000\n",
            "       shirt       0.32      0.04      0.07      1000\n",
            "     sneaker       0.51      0.99      0.67      1000\n",
            "         bag       0.83      0.71      0.77      1000\n",
            "  angle-boot       0.91      0.67      0.77      1000\n",
            "\n",
            "    accuracy                           0.59     10000\n",
            "   macro avg       0.64      0.59      0.56     10000\n",
            "weighted avg       0.64      0.59      0.56     10000\n",
            "\n"
          ]
        }
      ]
    },
    {
      "cell_type": "markdown",
      "source": [
        "#Accuracy\n",
        "\n",
        "As we can see, this model is not very accurate when dealing with this dataset. The accuracy is only about 60%. "
      ],
      "metadata": {
        "id": "8py0jO4-Pb6o"
      }
    },
    {
      "cell_type": "code",
      "source": [
        "mat = confusion_matrix(y_test, gnb_y_fit)\n",
        "plt.figure(figsize=(10, 16))\n",
        "sns.heatmap(mat.T, square=True, annot=True, fmt='d', cbar=False,\n",
        "            xticklabels=label_name,\n",
        "            yticklabels=label_name)\n",
        "plt.xlabel('true label')\n",
        "plt.ylabel('predicted label');"
      ],
      "metadata": {
        "colab": {
          "base_uri": "https://localhost:8080/",
          "height": 625
        },
        "id": "QMV-8rfs-zg7",
        "outputId": "55662e56-2244-411f-8f77-d603bd9dffe2"
      },
      "execution_count": null,
      "outputs": [
        {
          "output_type": "display_data",
          "data": {
            "text/plain": [
              "<Figure size 720x1152 with 1 Axes>"
            ],
            "image/png": "[encoded data removed]"
          },
          "metadata": {
            "needs_background": "light"
          }
        }
      ]
    },
    {
      "cell_type": "markdown",
      "source": [
        "#Decision Tree"
      ],
      "metadata": {
        "id": "Rbyj--6CPqtb"
      }
    },
    {
      "cell_type": "code",
      "source": [
        "w, h = 28, 28\n",
        "dt_x_train = x_train.reshape(x_train.shape[0], w*h)\n",
        "dt_x_test = x_test.reshape(x_test.shape[0], w*h)\n",
        "\n",
        "dt_model = DecisionTreeClassifier()\n",
        "%time dt_model.fit(dt_x_train, y_train)"
      ],
      "metadata": {
        "colab": {
          "base_uri": "https://localhost:8080/"
        },
        "id": "ZglbErKz-2lH",
        "outputId": "0ed77588-e1d6-4f37-ba0e-69c57c5aba13"
      },
      "execution_count": null,
      "outputs": [
        {
          "output_type": "stream",
          "name": "stdout",
          "text": [
            "CPU times: user 41.3 s, sys: 23.7 ms, total: 41.3 s\n",
            "Wall time: 41.3 s\n"
          ]
        },
        {
          "output_type": "execute_result",
          "data": {
            "text/plain": [
              "DecisionTreeClassifier()"
            ]
          },
          "metadata": {},
          "execution_count": 11
        }
      ]
    },
    {
      "cell_type": "code",
      "source": [
        "dt_y_fit = dt_model.predict(dt_x_test)"
      ],
      "metadata": {
        "id": "hadQNHjF-5xG"
      },
      "execution_count": null,
      "outputs": []
    },
    {
      "cell_type": "code",
      "source": [
        "print(classification_report(y_test, dt_y_fit, target_names=label_name))"
      ],
      "metadata": {
        "colab": {
          "base_uri": "https://localhost:8080/"
        },
        "id": "DCR872rj_KVi",
        "outputId": "1241bb7c-2fcd-4c30-e6c3-66f634e2bc53"
      },
      "execution_count": null,
      "outputs": [
        {
          "output_type": "stream",
          "name": "stdout",
          "text": [
            "              precision    recall  f1-score   support\n",
            "\n",
            "     t-shirt       0.75      0.74      0.75      1000\n",
            "     trouser       0.96      0.95      0.95      1000\n",
            "    pullover       0.63      0.65      0.64      1000\n",
            "       dress       0.81      0.79      0.80      1000\n",
            "        coat       0.64      0.62      0.63      1000\n",
            "      sandal       0.91      0.87      0.89      1000\n",
            "       shirt       0.52      0.55      0.54      1000\n",
            "     sneaker       0.86      0.88      0.87      1000\n",
            "         bag       0.90      0.91      0.91      1000\n",
            "  angle-boot       0.89      0.91      0.90      1000\n",
            "\n",
            "    accuracy                           0.79     10000\n",
            "   macro avg       0.79      0.79      0.79     10000\n",
            "weighted avg       0.79      0.79      0.79     10000\n",
            "\n"
          ]
        }
      ]
    },
    {
      "cell_type": "markdown",
      "source": [
        "#Accuracy\n",
        "\n",
        "With the Decision tree we got a better result. The accuracy improved from about 60% to almost 80% with this approach. "
      ],
      "metadata": {
        "id": "IOlBLjxlPww9"
      }
    },
    {
      "cell_type": "code",
      "source": [
        "mat = confusion_matrix(y_test, dt_y_fit)\n",
        "plt.figure(figsize=(10, 16))\n",
        "sns.heatmap(mat.T, square=True, annot=True, fmt='d', cbar=False,\n",
        "            xticklabels=label_name,\n",
        "            yticklabels=label_name)\n",
        "plt.xlabel('true label')\n",
        "plt.ylabel('predicted label');"
      ],
      "metadata": {
        "colab": {
          "base_uri": "https://localhost:8080/",
          "height": 625
        },
        "id": "_U7--rR3_Phg",
        "outputId": "c2c94dc6-9887-4529-cd6e-4e9694eb5776"
      },
      "execution_count": null,
      "outputs": [
        {
          "output_type": "display_data",
          "data": {
            "text/plain": [
              "<Figure size 720x1152 with 1 Axes>"
            ],
            "image/png": "[encoded data removed]"
          },
          "metadata": {
            "needs_background": "light"
          }
        }
      ]
    },
    {
      "cell_type": "markdown",
      "source": [
        "#Neural Network"
      ],
      "metadata": {
        "id": "nP1LvMCxP9b_"
      }
    },
    {
      "cell_type": "code",
      "source": [
        "w, h = 28, 28\n",
        "nn_x_train = x_train.reshape(x_train.shape[0], w, h, 1)\n",
        "nn_x_test = x_test.reshape(x_test.shape[0], w, h, 1)\n",
        "nn_y_train = to_categorical(y_train, 10)"
      ],
      "metadata": {
        "id": "TDxdmXTQ_SnP"
      },
      "execution_count": null,
      "outputs": []
    },
    {
      "cell_type": "code",
      "source": [
        "nn_model = Sequential()\n",
        "\n",
        "# Must define the input shape in the first layer of the neural network\n",
        "nn_model.add(layers.Conv2D(filters=64, kernel_size=2, padding='same', activation='relu', input_shape=(28,28,1))) \n",
        "nn_model.add(layers.MaxPooling2D(pool_size=2))\n",
        "nn_model.add(layers.Dropout(0.3))\n",
        "\n",
        "nn_model.add(layers.Conv2D(filters=32, kernel_size=2, padding='same', activation='relu'))\n",
        "nn_model.add(layers.MaxPooling2D(pool_size=2))\n",
        "nn_model.add(layers.Dropout(0.3))\n",
        "\n",
        "nn_model.add(layers.Flatten())\n",
        "nn_model.add(layers.Dense(256, activation='relu'))\n",
        "nn_model.add(layers.Dropout(0.5))\n",
        "nn_model.add(layers.Dense(10, activation='softmax'))\n",
        "\n",
        "nn_model.compile(loss='categorical_crossentropy', optimizer='adam', metrics=['accuracy'])\n",
        "\n",
        "checkpointer = ModelCheckpoint(filepath='model.weights.best.hdf5', verbose = 1, save_best_only=True)\n",
        "%time nn_model.fit(nn_x_train, nn_y_train, batch_size=64, epochs=100, callbacks=[checkpointer])"
      ],
      "metadata": {
        "colab": {
          "base_uri": "https://localhost:8080/"
        },
        "id": "SjuMCL3W_Vsj",
        "outputId": "7c25e6b4-c367-4457-86d8-0b570cbc9a97"
      },
      "execution_count": null,
      "outputs": [
        {
          "output_type": "stream",
          "name": "stdout",
          "text": [
            "Epoch 1/100\n",
            "932/938 [============================>.] - ETA: 0s - loss: 0.5938 - accuracy: 0.7824WARNING:tensorflow:Can save best model only with val_loss available, skipping.\n",
            "938/938 [==============================] - 5s 5ms/step - loss: 0.5927 - accuracy: 0.7828\n",
            "Epoch 2/100\n",
            "929/938 [============================>.] - ETA: 0s - loss: 0.4101 - accuracy: 0.8517WARNING:tensorflow:Can save best model only with val_loss available, skipping.\n",
            "938/938 [==============================] - 4s 4ms/step - loss: 0.4097 - accuracy: 0.8518\n",
            "Epoch 3/100\n",
            "934/938 [============================>.] - ETA: 0s - loss: 0.3661 - accuracy: 0.8673WARNING:tensorflow:Can save best model only with val_loss available, skipping.\n",
            "938/938 [==============================] - 4s 4ms/step - loss: 0.3662 - accuracy: 0.8673\n",
            "Epoch 4/100\n",
            "929/938 [============================>.] - ETA: 0s - loss: 0.3413 - accuracy: 0.8756WARNING:tensorflow:Can save best model only with val_loss available, skipping.\n",
            "938/938 [==============================] - 4s 4ms/step - loss: 0.3414 - accuracy: 0.8756\n",
            "Epoch 5/100\n",
            "932/938 [============================>.] - ETA: 0s - loss: 0.3191 - accuracy: 0.8834WARNING:tensorflow:Can save best model only with val_loss available, skipping.\n",
            "938/938 [==============================] - 4s 5ms/step - loss: 0.3191 - accuracy: 0.8834\n",
            "Epoch 6/100\n",
            "937/938 [============================>.] - ETA: 0s - loss: 0.3055 - accuracy: 0.8868WARNING:tensorflow:Can save best model only with val_loss available, skipping.\n",
            "938/938 [==============================] - 4s 4ms/step - loss: 0.3055 - accuracy: 0.8868\n",
            "Epoch 7/100\n",
            "936/938 [============================>.] - ETA: 0s - loss: 0.2919 - accuracy: 0.8921WARNING:tensorflow:Can save best model only with val_loss available, skipping.\n",
            "938/938 [==============================] - 4s 4ms/step - loss: 0.2919 - accuracy: 0.8921\n",
            "Epoch 8/100\n",
            "937/938 [============================>.] - ETA: 0s - loss: 0.2826 - accuracy: 0.8951WARNING:tensorflow:Can save best model only with val_loss available, skipping.\n",
            "938/938 [==============================] - 5s 6ms/step - loss: 0.2827 - accuracy: 0.8950\n",
            "Epoch 9/100\n",
            "928/938 [============================>.] - ETA: 0s - loss: 0.2716 - accuracy: 0.8994WARNING:tensorflow:Can save best model only with val_loss available, skipping.\n",
            "938/938 [==============================] - 6s 7ms/step - loss: 0.2711 - accuracy: 0.8996\n",
            "Epoch 10/100\n",
            "934/938 [============================>.] - ETA: 0s - loss: 0.2642 - accuracy: 0.9014WARNING:tensorflow:Can save best model only with val_loss available, skipping.\n",
            "938/938 [==============================] - 4s 4ms/step - loss: 0.2643 - accuracy: 0.9013\n",
            "Epoch 11/100\n",
            "932/938 [============================>.] - ETA: 0s - loss: 0.2592 - accuracy: 0.9035WARNING:tensorflow:Can save best model only with val_loss available, skipping.\n",
            "938/938 [==============================] - 4s 4ms/step - loss: 0.2591 - accuracy: 0.9035\n",
            "Epoch 12/100\n",
            "937/938 [============================>.] - ETA: 0s - loss: 0.2532 - accuracy: 0.9064WARNING:tensorflow:Can save best model only with val_loss available, skipping.\n",
            "938/938 [==============================] - 4s 4ms/step - loss: 0.2532 - accuracy: 0.9063\n",
            "Epoch 13/100\n",
            "931/938 [============================>.] - ETA: 0s - loss: 0.2436 - accuracy: 0.9095WARNING:tensorflow:Can save best model only with val_loss available, skipping.\n",
            "938/938 [==============================] - 4s 4ms/step - loss: 0.2441 - accuracy: 0.9093\n",
            "Epoch 14/100\n",
            "932/938 [============================>.] - ETA: 0s - loss: 0.2433 - accuracy: 0.9092WARNING:tensorflow:Can save best model only with val_loss available, skipping.\n",
            "938/938 [==============================] - 4s 4ms/step - loss: 0.2435 - accuracy: 0.9091\n",
            "Epoch 15/100\n",
            "935/938 [============================>.] - ETA: 0s - loss: 0.2371 - accuracy: 0.9114WARNING:tensorflow:Can save best model only with val_loss available, skipping.\n",
            "938/938 [==============================] - 4s 4ms/step - loss: 0.2370 - accuracy: 0.9115\n",
            "Epoch 16/100\n",
            "929/938 [============================>.] - ETA: 0s - loss: 0.2328 - accuracy: 0.9124WARNING:tensorflow:Can save best model only with val_loss available, skipping.\n",
            "938/938 [==============================] - 4s 4ms/step - loss: 0.2325 - accuracy: 0.9125\n",
            "Epoch 17/100\n",
            "931/938 [============================>.] - ETA: 0s - loss: 0.2292 - accuracy: 0.9161WARNING:tensorflow:Can save best model only with val_loss available, skipping.\n",
            "938/938 [==============================] - 4s 4ms/step - loss: 0.2293 - accuracy: 0.9161\n",
            "Epoch 18/100\n",
            "928/938 [============================>.] - ETA: 0s - loss: 0.2248 - accuracy: 0.9153WARNING:tensorflow:Can save best model only with val_loss available, skipping.\n",
            "938/938 [==============================] - 4s 4ms/step - loss: 0.2249 - accuracy: 0.9153\n",
            "Epoch 19/100\n",
            "935/938 [============================>.] - ETA: 0s - loss: 0.2221 - accuracy: 0.9163WARNING:tensorflow:Can save best model only with val_loss available, skipping.\n",
            "938/938 [==============================] - 4s 4ms/step - loss: 0.2221 - accuracy: 0.9164\n",
            "Epoch 20/100\n",
            "930/938 [============================>.] - ETA: 0s - loss: 0.2167 - accuracy: 0.9190WARNING:tensorflow:Can save best model only with val_loss available, skipping.\n",
            "938/938 [==============================] - 4s 4ms/step - loss: 0.2165 - accuracy: 0.9191\n",
            "Epoch 21/100\n",
            "935/938 [============================>.] - ETA: 0s - loss: 0.2152 - accuracy: 0.9200WARNING:tensorflow:Can save best model only with val_loss available, skipping.\n",
            "938/938 [==============================] - 4s 4ms/step - loss: 0.2154 - accuracy: 0.9199\n",
            "Epoch 22/100\n",
            "936/938 [============================>.] - ETA: 0s - loss: 0.2138 - accuracy: 0.9196WARNING:tensorflow:Can save best model only with val_loss available, skipping.\n",
            "938/938 [==============================] - 5s 5ms/step - loss: 0.2137 - accuracy: 0.9197\n",
            "Epoch 23/100\n",
            "932/938 [============================>.] - ETA: 0s - loss: 0.2077 - accuracy: 0.9216WARNING:tensorflow:Can save best model only with val_loss available, skipping.\n",
            "938/938 [==============================] - 4s 4ms/step - loss: 0.2077 - accuracy: 0.9215\n",
            "Epoch 24/100\n",
            "933/938 [============================>.] - ETA: 0s - loss: 0.2109 - accuracy: 0.9216WARNING:tensorflow:Can save best model only with val_loss available, skipping.\n",
            "938/938 [==============================] - 4s 4ms/step - loss: 0.2108 - accuracy: 0.9217\n",
            "Epoch 25/100\n",
            "932/938 [============================>.] - ETA: 0s - loss: 0.2053 - accuracy: 0.9227WARNING:tensorflow:Can save best model only with val_loss available, skipping.\n",
            "938/938 [==============================] - 4s 4ms/step - loss: 0.2052 - accuracy: 0.9226\n",
            "Epoch 26/100\n",
            "928/938 [============================>.] - ETA: 0s - loss: 0.2062 - accuracy: 0.9241WARNING:tensorflow:Can save best model only with val_loss available, skipping.\n",
            "938/938 [==============================] - 4s 4ms/step - loss: 0.2062 - accuracy: 0.9243\n",
            "Epoch 27/100\n",
            "934/938 [============================>.] - ETA: 0s - loss: 0.2041 - accuracy: 0.9225WARNING:tensorflow:Can save best model only with val_loss available, skipping.\n",
            "938/938 [==============================] - 4s 4ms/step - loss: 0.2040 - accuracy: 0.9226\n",
            "Epoch 28/100\n",
            "929/938 [============================>.] - ETA: 0s - loss: 0.2027 - accuracy: 0.9236WARNING:tensorflow:Can save best model only with val_loss available, skipping.\n",
            "938/938 [==============================] - 4s 4ms/step - loss: 0.2027 - accuracy: 0.9237\n",
            "Epoch 29/100\n",
            "936/938 [============================>.] - ETA: 0s - loss: 0.1993 - accuracy: 0.9255WARNING:tensorflow:Can save best model only with val_loss available, skipping.\n",
            "938/938 [==============================] - 4s 4ms/step - loss: 0.1995 - accuracy: 0.9255\n",
            "Epoch 30/100\n",
            "928/938 [============================>.] - ETA: 0s - loss: 0.1982 - accuracy: 0.9254WARNING:tensorflow:Can save best model only with val_loss available, skipping.\n",
            "938/938 [==============================] - 4s 4ms/step - loss: 0.1984 - accuracy: 0.9255\n",
            "Epoch 31/100\n",
            "936/938 [============================>.] - ETA: 0s - loss: 0.1938 - accuracy: 0.9265WARNING:tensorflow:Can save best model only with val_loss available, skipping.\n",
            "938/938 [==============================] - 4s 5ms/step - loss: 0.1938 - accuracy: 0.9265\n",
            "Epoch 32/100\n",
            "929/938 [============================>.] - ETA: 0s - loss: 0.1943 - accuracy: 0.9264WARNING:tensorflow:Can save best model only with val_loss available, skipping.\n",
            "938/938 [==============================] - 4s 4ms/step - loss: 0.1941 - accuracy: 0.9265\n",
            "Epoch 33/100\n",
            "931/938 [============================>.] - ETA: 0s - loss: 0.1899 - accuracy: 0.9287WARNING:tensorflow:Can save best model only with val_loss available, skipping.\n",
            "938/938 [==============================] - 4s 5ms/step - loss: 0.1900 - accuracy: 0.9287\n",
            "Epoch 34/100\n",
            "930/938 [============================>.] - ETA: 0s - loss: 0.1939 - accuracy: 0.9265WARNING:tensorflow:Can save best model only with val_loss available, skipping.\n",
            "938/938 [==============================] - 4s 5ms/step - loss: 0.1938 - accuracy: 0.9265\n",
            "Epoch 35/100\n",
            "929/938 [============================>.] - ETA: 0s - loss: 0.1913 - accuracy: 0.9285WARNING:tensorflow:Can save best model only with val_loss available, skipping.\n",
            "938/938 [==============================] - 4s 5ms/step - loss: 0.1912 - accuracy: 0.9285\n",
            "Epoch 36/100\n",
            "937/938 [============================>.] - ETA: 0s - loss: 0.1907 - accuracy: 0.9285WARNING:tensorflow:Can save best model only with val_loss available, skipping.\n",
            "938/938 [==============================] - 4s 5ms/step - loss: 0.1906 - accuracy: 0.9285\n",
            "Epoch 37/100\n",
            "934/938 [============================>.] - ETA: 0s - loss: 0.1878 - accuracy: 0.9285WARNING:tensorflow:Can save best model only with val_loss available, skipping.\n",
            "938/938 [==============================] - 4s 4ms/step - loss: 0.1876 - accuracy: 0.9286\n",
            "Epoch 38/100\n",
            "930/938 [============================>.] - ETA: 0s - loss: 0.1849 - accuracy: 0.9303WARNING:tensorflow:Can save best model only with val_loss available, skipping.\n",
            "938/938 [==============================] - 4s 4ms/step - loss: 0.1852 - accuracy: 0.9302\n",
            "Epoch 39/100\n",
            "937/938 [============================>.] - ETA: 0s - loss: 0.1859 - accuracy: 0.9306WARNING:tensorflow:Can save best model only with val_loss available, skipping.\n",
            "938/938 [==============================] - 4s 4ms/step - loss: 0.1859 - accuracy: 0.9306\n",
            "Epoch 40/100\n",
            "937/938 [============================>.] - ETA: 0s - loss: 0.1814 - accuracy: 0.9319WARNING:tensorflow:Can save best model only with val_loss available, skipping.\n",
            "938/938 [==============================] - 4s 4ms/step - loss: 0.1813 - accuracy: 0.9319\n",
            "Epoch 41/100\n",
            "927/938 [============================>.] - ETA: 0s - loss: 0.1834 - accuracy: 0.9317WARNING:tensorflow:Can save best model only with val_loss available, skipping.\n",
            "938/938 [==============================] - 4s 4ms/step - loss: 0.1834 - accuracy: 0.9316\n",
            "Epoch 42/100\n",
            "935/938 [============================>.] - ETA: 0s - loss: 0.1804 - accuracy: 0.9313WARNING:tensorflow:Can save best model only with val_loss available, skipping.\n",
            "938/938 [==============================] - 4s 5ms/step - loss: 0.1804 - accuracy: 0.9313\n",
            "Epoch 43/100\n",
            "935/938 [============================>.] - ETA: 0s - loss: 0.1791 - accuracy: 0.9318WARNING:tensorflow:Can save best model only with val_loss available, skipping.\n",
            "938/938 [==============================] - 4s 5ms/step - loss: 0.1791 - accuracy: 0.9319\n",
            "Epoch 44/100\n",
            "929/938 [============================>.] - ETA: 0s - loss: 0.1811 - accuracy: 0.9315WARNING:tensorflow:Can save best model only with val_loss available, skipping.\n",
            "938/938 [==============================] - 4s 4ms/step - loss: 0.1815 - accuracy: 0.9314\n",
            "Epoch 45/100\n",
            "936/938 [============================>.] - ETA: 0s - loss: 0.1773 - accuracy: 0.9327WARNING:tensorflow:Can save best model only with val_loss available, skipping.\n",
            "938/938 [==============================] - 4s 4ms/step - loss: 0.1773 - accuracy: 0.9327\n",
            "Epoch 46/100\n",
            "927/938 [============================>.] - ETA: 0s - loss: 0.1783 - accuracy: 0.9330WARNING:tensorflow:Can save best model only with val_loss available, skipping.\n",
            "938/938 [==============================] - 4s 4ms/step - loss: 0.1784 - accuracy: 0.9330\n",
            "Epoch 47/100\n",
            "928/938 [============================>.] - ETA: 0s - loss: 0.1789 - accuracy: 0.9331WARNING:tensorflow:Can save best model only with val_loss available, skipping.\n",
            "938/938 [==============================] - 4s 4ms/step - loss: 0.1789 - accuracy: 0.9331\n",
            "Epoch 48/100\n",
            "931/938 [============================>.] - ETA: 0s - loss: 0.1749 - accuracy: 0.9347WARNING:tensorflow:Can save best model only with val_loss available, skipping.\n",
            "938/938 [==============================] - 4s 4ms/step - loss: 0.1748 - accuracy: 0.9348\n",
            "Epoch 49/100\n",
            "931/938 [============================>.] - ETA: 0s - loss: 0.1747 - accuracy: 0.9337WARNING:tensorflow:Can save best model only with val_loss available, skipping.\n",
            "938/938 [==============================] - 4s 4ms/step - loss: 0.1745 - accuracy: 0.9337\n",
            "Epoch 50/100\n",
            "928/938 [============================>.] - ETA: 0s - loss: 0.1786 - accuracy: 0.9336WARNING:tensorflow:Can save best model only with val_loss available, skipping.\n",
            "938/938 [==============================] - 4s 4ms/step - loss: 0.1784 - accuracy: 0.9336\n",
            "Epoch 51/100\n",
            "929/938 [============================>.] - ETA: 0s - loss: 0.1757 - accuracy: 0.9332WARNING:tensorflow:Can save best model only with val_loss available, skipping.\n",
            "938/938 [==============================] - 4s 4ms/step - loss: 0.1752 - accuracy: 0.9334\n",
            "Epoch 52/100\n",
            "937/938 [============================>.] - ETA: 0s - loss: 0.1740 - accuracy: 0.9348WARNING:tensorflow:Can save best model only with val_loss available, skipping.\n",
            "938/938 [==============================] - 4s 4ms/step - loss: 0.1741 - accuracy: 0.9348\n",
            "Epoch 53/100\n",
            "937/938 [============================>.] - ETA: 0s - loss: 0.1725 - accuracy: 0.9344WARNING:tensorflow:Can save best model only with val_loss available, skipping.\n",
            "938/938 [==============================] - 4s 5ms/step - loss: 0.1725 - accuracy: 0.9344\n",
            "Epoch 54/100\n",
            "935/938 [============================>.] - ETA: 0s - loss: 0.1728 - accuracy: 0.9337WARNING:tensorflow:Can save best model only with val_loss available, skipping.\n",
            "938/938 [==============================] - 4s 4ms/step - loss: 0.1728 - accuracy: 0.9337\n",
            "Epoch 55/100\n",
            "930/938 [============================>.] - ETA: 0s - loss: 0.1721 - accuracy: 0.9350WARNING:tensorflow:Can save best model only with val_loss available, skipping.\n",
            "938/938 [==============================] - 4s 4ms/step - loss: 0.1723 - accuracy: 0.9350\n",
            "Epoch 56/100\n",
            "934/938 [============================>.] - ETA: 0s - loss: 0.1709 - accuracy: 0.9353WARNING:tensorflow:Can save best model only with val_loss available, skipping.\n",
            "938/938 [==============================] - 4s 5ms/step - loss: 0.1709 - accuracy: 0.9352\n",
            "Epoch 57/100\n",
            "928/938 [============================>.] - ETA: 0s - loss: 0.1707 - accuracy: 0.9345WARNING:tensorflow:Can save best model only with val_loss available, skipping.\n",
            "938/938 [==============================] - 4s 4ms/step - loss: 0.1708 - accuracy: 0.9343\n",
            "Epoch 58/100\n",
            "928/938 [============================>.] - ETA: 0s - loss: 0.1668 - accuracy: 0.9374WARNING:tensorflow:Can save best model only with val_loss available, skipping.\n",
            "938/938 [==============================] - 4s 4ms/step - loss: 0.1669 - accuracy: 0.9373\n",
            "Epoch 59/100\n",
            "928/938 [============================>.] - ETA: 0s - loss: 0.1688 - accuracy: 0.9362WARNING:tensorflow:Can save best model only with val_loss available, skipping.\n",
            "938/938 [==============================] - 4s 5ms/step - loss: 0.1687 - accuracy: 0.9362\n",
            "Epoch 60/100\n",
            "930/938 [============================>.] - ETA: 0s - loss: 0.1680 - accuracy: 0.9364WARNING:tensorflow:Can save best model only with val_loss available, skipping.\n",
            "938/938 [==============================] - 4s 4ms/step - loss: 0.1680 - accuracy: 0.9364\n",
            "Epoch 61/100\n",
            "929/938 [============================>.] - ETA: 0s - loss: 0.1655 - accuracy: 0.9374WARNING:tensorflow:Can save best model only with val_loss available, skipping.\n",
            "938/938 [==============================] - 4s 4ms/step - loss: 0.1657 - accuracy: 0.9374\n",
            "Epoch 62/100\n",
            "932/938 [============================>.] - ETA: 0s - loss: 0.1673 - accuracy: 0.9371WARNING:tensorflow:Can save best model only with val_loss available, skipping.\n",
            "938/938 [==============================] - 4s 4ms/step - loss: 0.1671 - accuracy: 0.9372\n",
            "Epoch 63/100\n",
            "927/938 [============================>.] - ETA: 0s - loss: 0.1683 - accuracy: 0.9370WARNING:tensorflow:Can save best model only with val_loss available, skipping.\n",
            "938/938 [==============================] - 4s 5ms/step - loss: 0.1685 - accuracy: 0.9370\n",
            "Epoch 64/100\n",
            "927/938 [============================>.] - ETA: 0s - loss: 0.1657 - accuracy: 0.9374WARNING:tensorflow:Can save best model only with val_loss available, skipping.\n",
            "938/938 [==============================] - 4s 4ms/step - loss: 0.1655 - accuracy: 0.9374\n",
            "Epoch 65/100\n",
            "934/938 [============================>.] - ETA: 0s - loss: 0.1618 - accuracy: 0.9380WARNING:tensorflow:Can save best model only with val_loss available, skipping.\n",
            "938/938 [==============================] - 4s 5ms/step - loss: 0.1621 - accuracy: 0.9380\n",
            "Epoch 66/100\n",
            "936/938 [============================>.] - ETA: 0s - loss: 0.1658 - accuracy: 0.9369WARNING:tensorflow:Can save best model only with val_loss available, skipping.\n",
            "938/938 [==============================] - 4s 4ms/step - loss: 0.1658 - accuracy: 0.9369\n",
            "Epoch 67/100\n",
            "929/938 [============================>.] - ETA: 0s - loss: 0.1638 - accuracy: 0.9385WARNING:tensorflow:Can save best model only with val_loss available, skipping.\n",
            "938/938 [==============================] - 4s 4ms/step - loss: 0.1640 - accuracy: 0.9384\n",
            "Epoch 68/100\n",
            "931/938 [============================>.] - ETA: 0s - loss: 0.1629 - accuracy: 0.9391WARNING:tensorflow:Can save best model only with val_loss available, skipping.\n",
            "938/938 [==============================] - 4s 4ms/step - loss: 0.1632 - accuracy: 0.9390\n",
            "Epoch 69/100\n",
            "938/938 [==============================] - ETA: 0s - loss: 0.1627 - accuracy: 0.9384WARNING:tensorflow:Can save best model only with val_loss available, skipping.\n",
            "938/938 [==============================] - 4s 5ms/step - loss: 0.1627 - accuracy: 0.9384\n",
            "Epoch 70/100\n",
            "930/938 [============================>.] - ETA: 0s - loss: 0.1582 - accuracy: 0.9396WARNING:tensorflow:Can save best model only with val_loss available, skipping.\n",
            "938/938 [==============================] - 4s 4ms/step - loss: 0.1589 - accuracy: 0.9394\n",
            "Epoch 71/100\n",
            "935/938 [============================>.] - ETA: 0s - loss: 0.1622 - accuracy: 0.9399WARNING:tensorflow:Can save best model only with val_loss available, skipping.\n",
            "938/938 [==============================] - 4s 5ms/step - loss: 0.1621 - accuracy: 0.9400\n",
            "Epoch 72/100\n",
            "937/938 [============================>.] - ETA: 0s - loss: 0.1572 - accuracy: 0.9414WARNING:tensorflow:Can save best model only with val_loss available, skipping.\n",
            "938/938 [==============================] - 4s 4ms/step - loss: 0.1573 - accuracy: 0.9414\n",
            "Epoch 73/100\n",
            "931/938 [============================>.] - ETA: 0s - loss: 0.1618 - accuracy: 0.9400WARNING:tensorflow:Can save best model only with val_loss available, skipping.\n",
            "938/938 [==============================] - 4s 4ms/step - loss: 0.1616 - accuracy: 0.9401\n",
            "Epoch 74/100\n",
            "932/938 [============================>.] - ETA: 0s - loss: 0.1589 - accuracy: 0.9399WARNING:tensorflow:Can save best model only with val_loss available, skipping.\n",
            "938/938 [==============================] - 4s 4ms/step - loss: 0.1592 - accuracy: 0.9398\n",
            "Epoch 75/100\n",
            "933/938 [============================>.] - ETA: 0s - loss: 0.1606 - accuracy: 0.9384WARNING:tensorflow:Can save best model only with val_loss available, skipping.\n",
            "938/938 [==============================] - 4s 4ms/step - loss: 0.1606 - accuracy: 0.9384\n",
            "Epoch 76/100\n",
            "933/938 [============================>.] - ETA: 0s - loss: 0.1586 - accuracy: 0.9401WARNING:tensorflow:Can save best model only with val_loss available, skipping.\n",
            "938/938 [==============================] - 4s 5ms/step - loss: 0.1585 - accuracy: 0.9402\n",
            "Epoch 77/100\n",
            "938/938 [==============================] - ETA: 0s - loss: 0.1603 - accuracy: 0.9390WARNING:tensorflow:Can save best model only with val_loss available, skipping.\n",
            "938/938 [==============================] - 4s 5ms/step - loss: 0.1603 - accuracy: 0.9390\n",
            "Epoch 78/100\n",
            "936/938 [============================>.] - ETA: 0s - loss: 0.1591 - accuracy: 0.9401WARNING:tensorflow:Can save best model only with val_loss available, skipping.\n",
            "938/938 [==============================] - 4s 5ms/step - loss: 0.1591 - accuracy: 0.9401\n",
            "Epoch 79/100\n",
            "938/938 [==============================] - ETA: 0s - loss: 0.1577 - accuracy: 0.9398WARNING:tensorflow:Can save best model only with val_loss available, skipping.\n",
            "938/938 [==============================] - 4s 4ms/step - loss: 0.1577 - accuracy: 0.9398\n",
            "Epoch 80/100\n",
            "934/938 [============================>.] - ETA: 0s - loss: 0.1560 - accuracy: 0.9411WARNING:tensorflow:Can save best model only with val_loss available, skipping.\n",
            "938/938 [==============================] - 4s 4ms/step - loss: 0.1561 - accuracy: 0.9409\n",
            "Epoch 81/100\n",
            "929/938 [============================>.] - ETA: 0s - loss: 0.1562 - accuracy: 0.9415WARNING:tensorflow:Can save best model only with val_loss available, skipping.\n",
            "938/938 [==============================] - 4s 4ms/step - loss: 0.1561 - accuracy: 0.9416\n",
            "Epoch 82/100\n",
            "929/938 [============================>.] - ETA: 0s - loss: 0.1547 - accuracy: 0.9418WARNING:tensorflow:Can save best model only with val_loss available, skipping.\n",
            "938/938 [==============================] - 4s 5ms/step - loss: 0.1546 - accuracy: 0.9418\n",
            "Epoch 83/100\n",
            "929/938 [============================>.] - ETA: 0s - loss: 0.1506 - accuracy: 0.9434WARNING:tensorflow:Can save best model only with val_loss available, skipping.\n",
            "938/938 [==============================] - 4s 4ms/step - loss: 0.1505 - accuracy: 0.9435\n",
            "Epoch 84/100\n",
            "930/938 [============================>.] - ETA: 0s - loss: 0.1556 - accuracy: 0.9410WARNING:tensorflow:Can save best model only with val_loss available, skipping.\n",
            "938/938 [==============================] - 4s 5ms/step - loss: 0.1556 - accuracy: 0.9411\n",
            "Epoch 85/100\n",
            "937/938 [============================>.] - ETA: 0s - loss: 0.1536 - accuracy: 0.9420WARNING:tensorflow:Can save best model only with val_loss available, skipping.\n",
            "938/938 [==============================] - 4s 5ms/step - loss: 0.1537 - accuracy: 0.9420\n",
            "Epoch 86/100\n",
            "932/938 [============================>.] - ETA: 0s - loss: 0.1542 - accuracy: 0.9417WARNING:tensorflow:Can save best model only with val_loss available, skipping.\n",
            "938/938 [==============================] - 4s 5ms/step - loss: 0.1541 - accuracy: 0.9419\n",
            "Epoch 87/100\n",
            "933/938 [============================>.] - ETA: 0s - loss: 0.1535 - accuracy: 0.9413WARNING:tensorflow:Can save best model only with val_loss available, skipping.\n",
            "938/938 [==============================] - 4s 4ms/step - loss: 0.1534 - accuracy: 0.9413\n",
            "Epoch 88/100\n",
            "935/938 [============================>.] - ETA: 0s - loss: 0.1536 - accuracy: 0.9426WARNING:tensorflow:Can save best model only with val_loss available, skipping.\n",
            "938/938 [==============================] - 4s 5ms/step - loss: 0.1537 - accuracy: 0.9426\n",
            "Epoch 89/100\n",
            "931/938 [============================>.] - ETA: 0s - loss: 0.1535 - accuracy: 0.9434WARNING:tensorflow:Can save best model only with val_loss available, skipping.\n",
            "938/938 [==============================] - 4s 5ms/step - loss: 0.1538 - accuracy: 0.9432\n",
            "Epoch 90/100\n",
            "929/938 [============================>.] - ETA: 0s - loss: 0.1554 - accuracy: 0.9421WARNING:tensorflow:Can save best model only with val_loss available, skipping.\n",
            "938/938 [==============================] - 4s 4ms/step - loss: 0.1555 - accuracy: 0.9421\n",
            "Epoch 91/100\n",
            "931/938 [============================>.] - ETA: 0s - loss: 0.1513 - accuracy: 0.9427WARNING:tensorflow:Can save best model only with val_loss available, skipping.\n",
            "938/938 [==============================] - 4s 5ms/step - loss: 0.1516 - accuracy: 0.9427\n",
            "Epoch 92/100\n",
            "930/938 [============================>.] - ETA: 0s - loss: 0.1554 - accuracy: 0.9417WARNING:tensorflow:Can save best model only with val_loss available, skipping.\n",
            "938/938 [==============================] - 4s 5ms/step - loss: 0.1552 - accuracy: 0.9417\n",
            "Epoch 93/100\n",
            "930/938 [============================>.] - ETA: 0s - loss: 0.1507 - accuracy: 0.9432WARNING:tensorflow:Can save best model only with val_loss available, skipping.\n",
            "938/938 [==============================] - 4s 5ms/step - loss: 0.1507 - accuracy: 0.9432\n",
            "Epoch 94/100\n",
            "933/938 [============================>.] - ETA: 0s - loss: 0.1510 - accuracy: 0.9425WARNING:tensorflow:Can save best model only with val_loss available, skipping.\n",
            "938/938 [==============================] - 4s 5ms/step - loss: 0.1513 - accuracy: 0.9425\n",
            "Epoch 95/100\n",
            "937/938 [============================>.] - ETA: 0s - loss: 0.1472 - accuracy: 0.9436WARNING:tensorflow:Can save best model only with val_loss available, skipping.\n",
            "938/938 [==============================] - 4s 5ms/step - loss: 0.1472 - accuracy: 0.9436\n",
            "Epoch 96/100\n",
            "934/938 [============================>.] - ETA: 0s - loss: 0.1534 - accuracy: 0.9421WARNING:tensorflow:Can save best model only with val_loss available, skipping.\n",
            "938/938 [==============================] - 4s 5ms/step - loss: 0.1536 - accuracy: 0.9420\n",
            "Epoch 97/100\n",
            "937/938 [============================>.] - ETA: 0s - loss: 0.1518 - accuracy: 0.9427WARNING:tensorflow:Can save best model only with val_loss available, skipping.\n",
            "938/938 [==============================] - 4s 5ms/step - loss: 0.1518 - accuracy: 0.9427\n",
            "Epoch 98/100\n",
            "929/938 [============================>.] - ETA: 0s - loss: 0.1542 - accuracy: 0.9421WARNING:tensorflow:Can save best model only with val_loss available, skipping.\n",
            "938/938 [==============================] - 4s 5ms/step - loss: 0.1540 - accuracy: 0.9422\n",
            "Epoch 99/100\n",
            "930/938 [============================>.] - ETA: 0s - loss: 0.1504 - accuracy: 0.9428WARNING:tensorflow:Can save best model only with val_loss available, skipping.\n",
            "938/938 [==============================] - 4s 5ms/step - loss: 0.1505 - accuracy: 0.9430\n",
            "Epoch 100/100\n",
            "928/938 [============================>.] - ETA: 0s - loss: 0.1469 - accuracy: 0.9446WARNING:tensorflow:Can save best model only with val_loss available, skipping.\n",
            "938/938 [==============================] - 4s 5ms/step - loss: 0.1471 - accuracy: 0.9444\n",
            "CPU times: user 7min 19s, sys: 43.6 s, total: 8min 3s\n",
            "Wall time: 7min 22s\n"
          ]
        },
        {
          "output_type": "execute_result",
          "data": {
            "text/plain": [
              "<keras.callbacks.History at 0x7f3410367790>"
            ]
          },
          "metadata": {},
          "execution_count": 17
        }
      ]
    },
    {
      "cell_type": "code",
      "source": [
        "# Convert nn_model prediction results\n",
        "nn_prediction_results = nn_model.predict(nn_x_test)\n",
        "nn_y_fit = np.full((10000,), 0, dtype='uint8')\n",
        "\n",
        "for i in range(0, len(nn_prediction_results)-1, 1):\n",
        "  nn_y_fit[i] = np.argmax(nn_prediction_results[i])"
      ],
      "metadata": {
        "id": "O7i1MfY3_cRc"
      },
      "execution_count": null,
      "outputs": []
    },
    {
      "cell_type": "code",
      "source": [
        "print(classification_report(y_test, nn_y_fit, target_names=label_name))"
      ],
      "metadata": {
        "colab": {
          "base_uri": "https://localhost:8080/"
        },
        "id": "rp0TRXEVBjG1",
        "outputId": "e09da84d-8704-4a28-ebc7-3193d6268a7c"
      },
      "execution_count": null,
      "outputs": [
        {
          "output_type": "stream",
          "name": "stdout",
          "text": [
            "              precision    recall  f1-score   support\n",
            "\n",
            "     t-shirt       0.89      0.87      0.88      1000\n",
            "     trouser       1.00      0.98      0.99      1000\n",
            "    pullover       0.86      0.92      0.89      1000\n",
            "       dress       0.94      0.92      0.93      1000\n",
            "        coat       0.86      0.90      0.88      1000\n",
            "      sandal       0.99      0.98      0.99      1000\n",
            "       shirt       0.79      0.76      0.77      1000\n",
            "     sneaker       0.95      0.99      0.97      1000\n",
            "         bag       0.99      0.98      0.99      1000\n",
            "  angle-boot       0.99      0.96      0.97      1000\n",
            "\n",
            "    accuracy                           0.93     10000\n",
            "   macro avg       0.93      0.93      0.93     10000\n",
            "weighted avg       0.93      0.93      0.93     10000\n",
            "\n"
          ]
        }
      ]
    },
    {
      "cell_type": "markdown",
      "source": [
        "#Accuracy\n",
        "\n",
        "As we can see with this approach, it has yielded us the best results so far, with 93% accuracy."
      ],
      "metadata": {
        "id": "edRnvRX1QD5d"
      }
    },
    {
      "cell_type": "code",
      "source": [
        "mat = confusion_matrix(y_test, nn_y_fit)\n",
        "plt.figure(figsize=(10, 16))\n",
        "sns.heatmap(mat.T, square=True, annot=True, fmt='d', cbar=False,\n",
        "            xticklabels=label_name,\n",
        "            yticklabels=label_name)\n",
        "plt.xlabel('true label')\n",
        "plt.ylabel('predicted label');"
      ],
      "metadata": {
        "colab": {
          "base_uri": "https://localhost:8080/",
          "height": 625
        },
        "id": "4Ade74PnBmNY",
        "outputId": "972ece05-c842-4a1a-ea22-2f0c81069e68"
      },
      "execution_count": null,
      "outputs": [
        {
          "output_type": "display_data",
          "data": {
            "text/plain": [
              "<Figure size 720x1152 with 1 Axes>"
            ],
            "image/png": "[encoded data removed]"
          },
          "metadata": {
            "needs_background": "light"
          }
        }
      ]
    },
    {
      "cell_type": "code",
      "source": [
        "print('Rows: %d, columns: %d' % (x_train.shape[0], x_train.shape[1]))"
      ],
      "metadata": {
        "colab": {
          "base_uri": "https://localhost:8080/"
        },
        "id": "mOxqX_0pBrnb",
        "outputId": "5a5b69be-e48c-48ab-d98a-31fd4d859d5e"
      },
      "execution_count": null,
      "outputs": [
        {
          "output_type": "stream",
          "name": "stdout",
          "text": [
            "Rows: 60000, columns: 28\n"
          ]
        }
      ]
    },
    {
      "cell_type": "code",
      "source": [
        "print('Rows: %d, columns: %d' % (x_test.shape[0], x_test.shape[1]))"
      ],
      "metadata": {
        "colab": {
          "base_uri": "https://localhost:8080/"
        },
        "id": "9OuP5Ir8BxoP",
        "outputId": "0486c9a8-b697-478b-aea5-f21c85677c53"
      },
      "execution_count": null,
      "outputs": [
        {
          "output_type": "stream",
          "name": "stdout",
          "text": [
            "Rows: 10000, columns: 28\n"
          ]
        }
      ]
    },
    {
      "cell_type": "code",
      "source": [
        "np.unique(y_train)"
      ],
      "metadata": {
        "colab": {
          "base_uri": "https://localhost:8080/"
        },
        "id": "20ejC255B0nE",
        "outputId": "b7490d7b-c0e0-4958-f7eb-3672e772ba57"
      },
      "execution_count": null,
      "outputs": [
        {
          "output_type": "execute_result",
          "data": {
            "text/plain": [
              "array([0, 1, 2, 3, 4, 5, 6, 7, 8, 9], dtype=uint8)"
            ]
          },
          "metadata": {},
          "execution_count": 23
        }
      ]
    },
    {
      "cell_type": "code",
      "source": [
        "# VISUALIZE DIFFERENT VARIATIONS OF Each Category\n",
        "nRows = 4\n",
        "numCats = len(np.unique(y_train))\n",
        "fig, ax = plt.subplots(nrows=nRows, ncols=numCats, sharex=True, sharey=True,figsize=(8, 6))\n",
        "ax = ax.flatten()\n",
        "for i in range(numCats * nRows):\n",
        "    img = x_train[y_train == i%numCats][i//numCats].reshape(28, 28)\n",
        "    ax[i].imshow(img, cmap='Greys', interpolation='nearest')\n",
        "\n",
        "ax[0].set_xticks([])\n",
        "ax[0].set_yticks([])\n",
        "plt.tight_layout()\n",
        "# plt.savefig('./figures/mnist_9.png', dpi=300)\n",
        "plt.show()"
      ],
      "metadata": {
        "colab": {
          "base_uri": "https://localhost:8080/",
          "height": 368
        },
        "id": "NEbj4ECQB4G4",
        "outputId": "7de53017-4cc4-485d-fc39-5cbaa60659e7"
      },
      "execution_count": null,
      "outputs": [
        {
          "output_type": "display_data",
          "data": {
            "text/plain": [
              "<Figure size 576x432 with 40 Axes>"
            ],
            "image/png": "[encoded data removed]"
          },
          "metadata": {}
        }
      ]
    },
    {
      "cell_type": "code",
      "source": [
        "countsTrain = np.unique(y_train, return_counts=True)"
      ],
      "metadata": {
        "id": "kYCbSgXaB7GG"
      },
      "execution_count": null,
      "outputs": []
    },
    {
      "cell_type": "code",
      "source": [
        "pd.DataFrame(zip(countsTrain[0], countsTrain[1]), columns=['label', 'counts'])"
      ],
      "metadata": {
        "colab": {
          "base_uri": "https://localhost:8080/",
          "height": 320
        },
        "id": "L1gJr0acB-6i",
        "outputId": "10a0ca8b-d73e-42c9-8c41-445c2d3fc793"
      },
      "execution_count": null,
      "outputs": [
        {
          "output_type": "execute_result",
          "data": {
            "text/plain": [
              "   label  counts\n",
              "0      0    6000\n",
              "1      1    6000\n",
              "2      2    6000\n",
              "3      3    6000\n",
              "4      4    6000\n",
              "5      5    6000\n",
              "6      6    6000\n",
              "7      7    6000\n",
              "8      8    6000\n",
              "9      9    6000"
            ],
            "text/html": [
              "\n",
              "  <div id=\"df-7bb50fff-2608-464e-8492-fdad8f19cc1c\">\n",
              "    <div class=\"colab-df-container\">\n",
              "      <div>\n",
              "<style scoped>\n",
              "    .dataframe tbody tr th:only-of-type {\n",
              "        vertical-align: middle;\n",
              "    }\n",
              "\n",
              "    .dataframe tbody tr th {\n",
              "        vertical-align: top;\n",
              "    }\n",
              "\n",
              "    .dataframe thead th {\n",
              "        text-align: right;\n",
              "    }\n",
              "</style>\n",
              "<table border=\"1\" class=\"dataframe\">\n",
              "  <thead>\n",
              "    <tr style=\"text-align: right;\">\n",
              "      <th></th>\n",
              "      <th>label</th>\n",
              "      <th>counts</th>\n",
              "    </tr>\n",
              "  </thead>\n",
              "  <tbody>\n",
              "    <tr>\n",
              "      <th>0</th>\n",
              "      <td>0</td>\n",
              "      <td>6000</td>\n",
              "    </tr>\n",
              "    <tr>\n",
              "      <th>1</th>\n",
              "      <td>1</td>\n",
              "      <td>6000</td>\n",
              "    </tr>\n",
              "    <tr>\n",
              "      <th>2</th>\n",
              "      <td>2</td>\n",
              "      <td>6000</td>\n",
              "    </tr>\n",
              "    <tr>\n",
              "      <th>3</th>\n",
              "      <td>3</td>\n",
              "      <td>6000</td>\n",
              "    </tr>\n",
              "    <tr>\n",
              "      <th>4</th>\n",
              "      <td>4</td>\n",
              "      <td>6000</td>\n",
              "    </tr>\n",
              "    <tr>\n",
              "      <th>5</th>\n",
              "      <td>5</td>\n",
              "      <td>6000</td>\n",
              "    </tr>\n",
              "    <tr>\n",
              "      <th>6</th>\n",
              "      <td>6</td>\n",
              "      <td>6000</td>\n",
              "    </tr>\n",
              "    <tr>\n",
              "      <th>7</th>\n",
              "      <td>7</td>\n",
              "      <td>6000</td>\n",
              "    </tr>\n",
              "    <tr>\n",
              "      <th>8</th>\n",
              "      <td>8</td>\n",
              "      <td>6000</td>\n",
              "    </tr>\n",
              "    <tr>\n",
              "      <th>9</th>\n",
              "      <td>9</td>\n",
              "      <td>6000</td>\n",
              "    </tr>\n",
              "  </tbody>\n",
              "</table>\n",
              "</div>\n",
              "      <button class=\"colab-df-convert\" onclick=\"convertToInteractive('df-7bb50fff-2608-464e-8492-fdad8f19cc1c')\"\n",
              "              title=\"Convert this dataframe to an interactive table.\"\n",
              "              style=\"display:none;\">\n",
              "        \n",
              "  <svg xmlns=\"http://www.w3.org/2000/svg\" height=\"24px\"viewBox=\"0 0 24 24\"\n",
              "       width=\"24px\">\n",
              "    <path d=\"M0 0h24v24H0V0z\" fill=\"none\"/>\n",
              "    <path d=\"M18.56 5.44l.94 2.06.94-2.06 2.06-.94-2.06-.94-.94-2.06-.94 2.06-2.06.94zm-11 1L8.5 8.5l.94-2.06 2.06-.94-2.06-.94L8.5 2.5l-.94 2.06-2.06.94zm10 10l.94 2.06.94-2.06 2.06-.94-2.06-.94-.94-2.06-.94 2.06-2.06.94z\"/><path d=\"M17.41 7.96l-1.37-1.37c-.4-.4-.92-.59-1.43-.59-.52 0-1.04.2-1.43.59L10.3 9.45l-7.72 7.72c-.78.78-.78 2.05 0 2.83L4 21.41c.39.39.9.59 1.41.59.51 0 1.02-.2 1.41-.59l7.78-7.78 2.81-2.81c.8-.78.8-2.07 0-2.86zM5.41 20L4 18.59l7.72-7.72 1.47 1.35L5.41 20z\"/>\n",
              "  </svg>\n",
              "      </button>\n",
              "      \n",
              "  <style>\n",
              "    .colab-df-container {\n",
              "      display:flex;\n",
              "      flex-wrap:wrap;\n",
              "      gap: 12px;\n",
              "    }\n",
              "\n",
              "    .colab-df-convert {\n",
              "      background-color: #E8F0FE;\n",
              "      border: none;\n",
              "      border-radius: 50%;\n",
              "      cursor: pointer;\n",
              "      display: none;\n",
              "      fill: #1967D2;\n",
              "      height: 32px;\n",
              "      padding: 0 0 0 0;\n",
              "      width: 32px;\n",
              "    }\n",
              "\n",
              "    .colab-df-convert:hover {\n",
              "      background-color: #E2EBFA;\n",
              "      box-shadow: 0px 1px 2px rgba(60, 64, 67, 0.3), 0px 1px 3px 1px rgba(60, 64, 67, 0.15);\n",
              "      fill: #174EA6;\n",
              "    }\n",
              "\n",
              "    [theme=dark] .colab-df-convert {\n",
              "      background-color: #3B4455;\n",
              "      fill: #D2E3FC;\n",
              "    }\n",
              "\n",
              "    [theme=dark] .colab-df-convert:hover {\n",
              "      background-color: #434B5C;\n",
              "      box-shadow: 0px 1px 3px 1px rgba(0, 0, 0, 0.15);\n",
              "      filter: drop-shadow(0px 1px 2px rgba(0, 0, 0, 0.3));\n",
              "      fill: #FFFFFF;\n",
              "    }\n",
              "  </style>\n",
              "\n",
              "      <script>\n",
              "        const buttonEl =\n",
              "          document.querySelector('#df-7bb50fff-2608-464e-8492-fdad8f19cc1c button.colab-df-convert');\n",
              "        buttonEl.style.display =\n",
              "          google.colab.kernel.accessAllowed ? 'block' : 'none';\n",
              "\n",
              "        async function convertToInteractive(key) {\n",
              "          const element = document.querySelector('#df-7bb50fff-2608-464e-8492-fdad8f19cc1c');\n",
              "          const dataTable =\n",
              "            await google.colab.kernel.invokeFunction('convertToInteractive',\n",
              "                                                     [key], {});\n",
              "          if (!dataTable) return;\n",
              "\n",
              "          const docLinkHtml = 'Like what you see? Visit the ' +\n",
              "            '<a target=\"_blank\" href=https://colab.research.google.com/notebooks/data_table.ipynb>data table notebook</a>'\n",
              "            + ' to learn more about interactive tables.';\n",
              "          element.innerHTML = '';\n",
              "          dataTable['output_type'] = 'display_data';\n",
              "          await google.colab.output.renderOutput(dataTable, element);\n",
              "          const docLink = document.createElement('div');\n",
              "          docLink.innerHTML = docLinkHtml;\n",
              "          element.appendChild(docLink);\n",
              "        }\n",
              "      </script>\n",
              "    </div>\n",
              "  </div>\n",
              "  "
            ]
          },
          "metadata": {},
          "execution_count": 26
        }
      ]
    },
    {
      "cell_type": "code",
      "source": [
        "countsTest = np.unique(y_test, return_counts=True)"
      ],
      "metadata": {
        "id": "Vx8XjNkICBnC"
      },
      "execution_count": null,
      "outputs": []
    },
    {
      "cell_type": "code",
      "source": [
        "pd.DataFrame(zip(countsTest[0], countsTest[1]), columns=['label', 'counts'])"
      ],
      "metadata": {
        "colab": {
          "base_uri": "https://localhost:8080/",
          "height": 320
        },
        "id": "XVOIXIv8CGXx",
        "outputId": "d83ea2fb-b2fa-4229-b079-bf56961c9cb4"
      },
      "execution_count": null,
      "outputs": [
        {
          "output_type": "execute_result",
          "data": {
            "text/plain": [
              "   label  counts\n",
              "0      0    1000\n",
              "1      1    1000\n",
              "2      2    1000\n",
              "3      3    1000\n",
              "4      4    1000\n",
              "5      5    1000\n",
              "6      6    1000\n",
              "7      7    1000\n",
              "8      8    1000\n",
              "9      9    1000"
            ],
            "text/html": [
              "\n",
              "  <div id=\"df-df1f88e5-79f4-45ac-b64d-93c8b9ee743a\">\n",
              "    <div class=\"colab-df-container\">\n",
              "      <div>\n",
              "<style scoped>\n",
              "    .dataframe tbody tr th:only-of-type {\n",
              "        vertical-align: middle;\n",
              "    }\n",
              "\n",
              "    .dataframe tbody tr th {\n",
              "        vertical-align: top;\n",
              "    }\n",
              "\n",
              "    .dataframe thead th {\n",
              "        text-align: right;\n",
              "    }\n",
              "</style>\n",
              "<table border=\"1\" class=\"dataframe\">\n",
              "  <thead>\n",
              "    <tr style=\"text-align: right;\">\n",
              "      <th></th>\n",
              "      <th>label</th>\n",
              "      <th>counts</th>\n",
              "    </tr>\n",
              "  </thead>\n",
              "  <tbody>\n",
              "    <tr>\n",
              "      <th>0</th>\n",
              "      <td>0</td>\n",
              "      <td>1000</td>\n",
              "    </tr>\n",
              "    <tr>\n",
              "      <th>1</th>\n",
              "      <td>1</td>\n",
              "      <td>1000</td>\n",
              "    </tr>\n",
              "    <tr>\n",
              "      <th>2</th>\n",
              "      <td>2</td>\n",
              "      <td>1000</td>\n",
              "    </tr>\n",
              "    <tr>\n",
              "      <th>3</th>\n",
              "      <td>3</td>\n",
              "      <td>1000</td>\n",
              "    </tr>\n",
              "    <tr>\n",
              "      <th>4</th>\n",
              "      <td>4</td>\n",
              "      <td>1000</td>\n",
              "    </tr>\n",
              "    <tr>\n",
              "      <th>5</th>\n",
              "      <td>5</td>\n",
              "      <td>1000</td>\n",
              "    </tr>\n",
              "    <tr>\n",
              "      <th>6</th>\n",
              "      <td>6</td>\n",
              "      <td>1000</td>\n",
              "    </tr>\n",
              "    <tr>\n",
              "      <th>7</th>\n",
              "      <td>7</td>\n",
              "      <td>1000</td>\n",
              "    </tr>\n",
              "    <tr>\n",
              "      <th>8</th>\n",
              "      <td>8</td>\n",
              "      <td>1000</td>\n",
              "    </tr>\n",
              "    <tr>\n",
              "      <th>9</th>\n",
              "      <td>9</td>\n",
              "      <td>1000</td>\n",
              "    </tr>\n",
              "  </tbody>\n",
              "</table>\n",
              "</div>\n",
              "      <button class=\"colab-df-convert\" onclick=\"convertToInteractive('df-df1f88e5-79f4-45ac-b64d-93c8b9ee743a')\"\n",
              "              title=\"Convert this dataframe to an interactive table.\"\n",
              "              style=\"display:none;\">\n",
              "        \n",
              "  <svg xmlns=\"http://www.w3.org/2000/svg\" height=\"24px\"viewBox=\"0 0 24 24\"\n",
              "       width=\"24px\">\n",
              "    <path d=\"M0 0h24v24H0V0z\" fill=\"none\"/>\n",
              "    <path d=\"M18.56 5.44l.94 2.06.94-2.06 2.06-.94-2.06-.94-.94-2.06-.94 2.06-2.06.94zm-11 1L8.5 8.5l.94-2.06 2.06-.94-2.06-.94L8.5 2.5l-.94 2.06-2.06.94zm10 10l.94 2.06.94-2.06 2.06-.94-2.06-.94-.94-2.06-.94 2.06-2.06.94z\"/><path d=\"M17.41 7.96l-1.37-1.37c-.4-.4-.92-.59-1.43-.59-.52 0-1.04.2-1.43.59L10.3 9.45l-7.72 7.72c-.78.78-.78 2.05 0 2.83L4 21.41c.39.39.9.59 1.41.59.51 0 1.02-.2 1.41-.59l7.78-7.78 2.81-2.81c.8-.78.8-2.07 0-2.86zM5.41 20L4 18.59l7.72-7.72 1.47 1.35L5.41 20z\"/>\n",
              "  </svg>\n",
              "      </button>\n",
              "      \n",
              "  <style>\n",
              "    .colab-df-container {\n",
              "      display:flex;\n",
              "      flex-wrap:wrap;\n",
              "      gap: 12px;\n",
              "    }\n",
              "\n",
              "    .colab-df-convert {\n",
              "      background-color: #E8F0FE;\n",
              "      border: none;\n",
              "      border-radius: 50%;\n",
              "      cursor: pointer;\n",
              "      display: none;\n",
              "      fill: #1967D2;\n",
              "      height: 32px;\n",
              "      padding: 0 0 0 0;\n",
              "      width: 32px;\n",
              "    }\n",
              "\n",
              "    .colab-df-convert:hover {\n",
              "      background-color: #E2EBFA;\n",
              "      box-shadow: 0px 1px 2px rgba(60, 64, 67, 0.3), 0px 1px 3px 1px rgba(60, 64, 67, 0.15);\n",
              "      fill: #174EA6;\n",
              "    }\n",
              "\n",
              "    [theme=dark] .colab-df-convert {\n",
              "      background-color: #3B4455;\n",
              "      fill: #D2E3FC;\n",
              "    }\n",
              "\n",
              "    [theme=dark] .colab-df-convert:hover {\n",
              "      background-color: #434B5C;\n",
              "      box-shadow: 0px 1px 3px 1px rgba(0, 0, 0, 0.15);\n",
              "      filter: drop-shadow(0px 1px 2px rgba(0, 0, 0, 0.3));\n",
              "      fill: #FFFFFF;\n",
              "    }\n",
              "  </style>\n",
              "\n",
              "      <script>\n",
              "        const buttonEl =\n",
              "          document.querySelector('#df-df1f88e5-79f4-45ac-b64d-93c8b9ee743a button.colab-df-convert');\n",
              "        buttonEl.style.display =\n",
              "          google.colab.kernel.accessAllowed ? 'block' : 'none';\n",
              "\n",
              "        async function convertToInteractive(key) {\n",
              "          const element = document.querySelector('#df-df1f88e5-79f4-45ac-b64d-93c8b9ee743a');\n",
              "          const dataTable =\n",
              "            await google.colab.kernel.invokeFunction('convertToInteractive',\n",
              "                                                     [key], {});\n",
              "          if (!dataTable) return;\n",
              "\n",
              "          const docLinkHtml = 'Like what you see? Visit the ' +\n",
              "            '<a target=\"_blank\" href=https://colab.research.google.com/notebooks/data_table.ipynb>data table notebook</a>'\n",
              "            + ' to learn more about interactive tables.';\n",
              "          element.innerHTML = '';\n",
              "          dataTable['output_type'] = 'display_data';\n",
              "          await google.colab.output.renderOutput(dataTable, element);\n",
              "          const docLink = document.createElement('div');\n",
              "          docLink.innerHTML = docLinkHtml;\n",
              "          element.appendChild(docLink);\n",
              "        }\n",
              "      </script>\n",
              "    </div>\n",
              "  </div>\n",
              "  "
            ]
          },
          "metadata": {},
          "execution_count": 28
        }
      ]
    },
    {
      "cell_type": "markdown",
      "source": [
        "#Keras Model\n",
        "\n",
        "In this Keras model, it takes stat-of-the-art neural networks, and uses them for computer vision. "
      ],
      "metadata": {
        "id": "8j7GwTTqQgxp"
      }
    },
    {
      "cell_type": "markdown",
      "source": [
        "##Build Model"
      ],
      "metadata": {
        "id": "B8d8NQhUQ3gY"
      }
    },
    {
      "cell_type": "code",
      "source": [
        "IMG_SIZE = 28\n",
        "\n",
        "model = Sequential()\n",
        "\n",
        "# First Layer\n",
        "model.add(Conv2D(32, kernel_size = (3, 3), activation='relu', input_shape=(IMG_SIZE, IMG_SIZE, 1)))\n",
        "model.add(MaxPooling2D(pool_size=(2,2)))\n",
        "model.add(BatchNormalization())\n",
        "\n",
        "# Second Layer\n",
        "model.add(Conv2D(64, kernel_size=(3,3), activation='relu'))\n",
        "model.add(MaxPooling2D(pool_size=(2,2)))\n",
        "model.add(BatchNormalization())\n",
        "\n",
        "# Third Layer\n",
        "model.add(Conv2D(128, kernel_size=(3,3), activation='relu'))\n",
        "model.add(MaxPooling2D(pool_size=(2,2)))\n",
        "model.add(BatchNormalization())\n",
        "\n",
        "model.add(Dropout(0.2))\n",
        "model.add(Flatten())\n",
        "model.add(Dense(128, activation='relu'))\n",
        "model.add(Dense(len(np.unique(y_train)), activation = 'softmax'))"
      ],
      "metadata": {
        "id": "2jWux_hzCZZX"
      },
      "execution_count": null,
      "outputs": []
    },
    {
      "cell_type": "markdown",
      "source": [
        "##Model Structure"
      ],
      "metadata": {
        "id": "PyUNHC_zQ7BJ"
      }
    },
    {
      "cell_type": "code",
      "source": [
        "print(model.summary())"
      ],
      "metadata": {
        "colab": {
          "base_uri": "https://localhost:8080/"
        },
        "id": "BVYWMlA0C3Pw",
        "outputId": "58a41fed-b5fe-4efb-f42d-0774fd4c48dc"
      },
      "execution_count": null,
      "outputs": [
        {
          "output_type": "stream",
          "name": "stdout",
          "text": [
            "Model: \"sequential_2\"\n",
            "_________________________________________________________________\n",
            " Layer (type)                Output Shape              Param #   \n",
            "=================================================================\n",
            " conv2d_4 (Conv2D)           (None, 26, 26, 32)        320       \n",
            "                                                                 \n",
            " max_pooling2d_4 (MaxPooling  (None, 13, 13, 32)       0         \n",
            " 2D)                                                             \n",
            "                                                                 \n",
            " batch_normalization (BatchN  (None, 13, 13, 32)       128       \n",
            " ormalization)                                                   \n",
            "                                                                 \n",
            " conv2d_5 (Conv2D)           (None, 11, 11, 64)        18496     \n",
            "                                                                 \n",
            " max_pooling2d_5 (MaxPooling  (None, 5, 5, 64)         0         \n",
            " 2D)                                                             \n",
            "                                                                 \n",
            " batch_normalization_1 (Batc  (None, 5, 5, 64)         256       \n",
            " hNormalization)                                                 \n",
            "                                                                 \n",
            " conv2d_6 (Conv2D)           (None, 3, 3, 128)         73856     \n",
            "                                                                 \n",
            " max_pooling2d_6 (MaxPooling  (None, 1, 1, 128)        0         \n",
            " 2D)                                                             \n",
            "                                                                 \n",
            " batch_normalization_2 (Batc  (None, 1, 1, 128)        512       \n",
            " hNormalization)                                                 \n",
            "                                                                 \n",
            " dropout_6 (Dropout)         (None, 1, 1, 128)         0         \n",
            "                                                                 \n",
            " flatten_2 (Flatten)         (None, 128)               0         \n",
            "                                                                 \n",
            " dense_4 (Dense)             (None, 128)               16512     \n",
            "                                                                 \n",
            " dense_5 (Dense)             (None, 10)                1290      \n",
            "                                                                 \n",
            "=================================================================\n",
            "Total params: 111,370\n",
            "Trainable params: 110,922\n",
            "Non-trainable params: 448\n",
            "_________________________________________________________________\n",
            "None\n"
          ]
        }
      ]
    },
    {
      "cell_type": "markdown",
      "source": [
        "##Compile and Fit"
      ],
      "metadata": {
        "id": "WY9FsktkQ-og"
      }
    },
    {
      "cell_type": "code",
      "source": [
        "model.compile(loss='categorical_crossentropy', \n",
        "              optimizer='adam', \n",
        "              metrics=['accuracy']) "
      ],
      "metadata": {
        "id": "YWt_76viC5iC"
      },
      "execution_count": null,
      "outputs": []
    },
    {
      "cell_type": "code",
      "source": [
        "y_binary_train = to_categorical(y_train)\n",
        "y_binary_test = to_categorical(y_test)"
      ],
      "metadata": {
        "id": "EOV_yBpdC82f"
      },
      "execution_count": null,
      "outputs": []
    },
    {
      "cell_type": "code",
      "source": [
        "history = model.fit(x_train.reshape(len(y_train),28,28,1), y_binary_train, \n",
        "                    batch_size=50, \n",
        "                    epochs=100, \n",
        "                    verbose=1,\n",
        "                   validation_data=(x_test.reshape(len(y_test),28,28,1), y_binary_test))"
      ],
      "metadata": {
        "colab": {
          "base_uri": "https://localhost:8080/"
        },
        "id": "cGh7wXjFC_zq",
        "outputId": "1d8ff4c7-a3ac-460a-d614-aeb49de7d1f5"
      },
      "execution_count": null,
      "outputs": [
        {
          "output_type": "stream",
          "name": "stdout",
          "text": [
            "Epoch 1/100\n",
            "1200/1200 [==============================] - 6s 5ms/step - loss: 0.2727 - accuracy: 0.8976 - val_loss: 0.3486 - val_accuracy: 0.8709\n",
            "Epoch 2/100\n",
            "1200/1200 [==============================] - 6s 5ms/step - loss: 0.2517 - accuracy: 0.9066 - val_loss: 0.3755 - val_accuracy: 0.8609\n",
            "Epoch 3/100\n",
            "1200/1200 [==============================] - 6s 5ms/step - loss: 0.2320 - accuracy: 0.9136 - val_loss: 0.2939 - val_accuracy: 0.8916\n",
            "Epoch 4/100\n",
            "1200/1200 [==============================] - 5s 4ms/step - loss: 0.2156 - accuracy: 0.9195 - val_loss: 0.3147 - val_accuracy: 0.8838\n",
            "Epoch 5/100\n",
            "1200/1200 [==============================] - 5s 4ms/step - loss: 0.2026 - accuracy: 0.9227 - val_loss: 0.3022 - val_accuracy: 0.8910\n",
            "Epoch 6/100\n",
            "1200/1200 [==============================] - 5s 4ms/step - loss: 0.1875 - accuracy: 0.9297 - val_loss: 0.2954 - val_accuracy: 0.8999\n",
            "Epoch 7/100\n",
            "1200/1200 [==============================] - 6s 5ms/step - loss: 0.1808 - accuracy: 0.9312 - val_loss: 0.2903 - val_accuracy: 0.9003\n",
            "Epoch 8/100\n",
            "1200/1200 [==============================] - 5s 4ms/step - loss: 0.1682 - accuracy: 0.9366 - val_loss: 0.3086 - val_accuracy: 0.8959\n",
            "Epoch 9/100\n",
            "1200/1200 [==============================] - 5s 4ms/step - loss: 0.1583 - accuracy: 0.9392 - val_loss: 0.3022 - val_accuracy: 0.9019\n",
            "Epoch 10/100\n",
            "1200/1200 [==============================] - 5s 4ms/step - loss: 0.1514 - accuracy: 0.9434 - val_loss: 0.3354 - val_accuracy: 0.8911\n",
            "Epoch 11/100\n",
            "1200/1200 [==============================] - 5s 4ms/step - loss: 0.1439 - accuracy: 0.9451 - val_loss: 0.3260 - val_accuracy: 0.8971\n",
            "Epoch 12/100\n",
            "1200/1200 [==============================] - 5s 4ms/step - loss: 0.1362 - accuracy: 0.9483 - val_loss: 0.3155 - val_accuracy: 0.9030\n",
            "Epoch 13/100\n",
            "1200/1200 [==============================] - 5s 4ms/step - loss: 0.1292 - accuracy: 0.9503 - val_loss: 0.3442 - val_accuracy: 0.9015\n",
            "Epoch 14/100\n",
            "1200/1200 [==============================] - 5s 5ms/step - loss: 0.1249 - accuracy: 0.9524 - val_loss: 0.3345 - val_accuracy: 0.9020\n",
            "Epoch 15/100\n",
            "1200/1200 [==============================] - 6s 5ms/step - loss: 0.1222 - accuracy: 0.9539 - val_loss: 0.3334 - val_accuracy: 0.9010\n",
            "Epoch 16/100\n",
            "1200/1200 [==============================] - 6s 5ms/step - loss: 0.1146 - accuracy: 0.9560 - val_loss: 0.3418 - val_accuracy: 0.9054\n",
            "Epoch 17/100\n",
            "1200/1200 [==============================] - 5s 4ms/step - loss: 0.1076 - accuracy: 0.9585 - val_loss: 0.3509 - val_accuracy: 0.9005\n",
            "Epoch 18/100\n",
            "1200/1200 [==============================] - 5s 4ms/step - loss: 0.1053 - accuracy: 0.9598 - val_loss: 0.3653 - val_accuracy: 0.8994\n",
            "Epoch 19/100\n",
            "1200/1200 [==============================] - 5s 4ms/step - loss: 0.1028 - accuracy: 0.9612 - val_loss: 0.3581 - val_accuracy: 0.9003\n",
            "Epoch 20/100\n",
            "1200/1200 [==============================] - 6s 5ms/step - loss: 0.0966 - accuracy: 0.9631 - val_loss: 0.3648 - val_accuracy: 0.9037\n",
            "Epoch 21/100\n",
            "1200/1200 [==============================] - 5s 5ms/step - loss: 0.0951 - accuracy: 0.9643 - val_loss: 0.4053 - val_accuracy: 0.8999\n",
            "Epoch 22/100\n",
            "1200/1200 [==============================] - 5s 4ms/step - loss: 0.0935 - accuracy: 0.9649 - val_loss: 0.3980 - val_accuracy: 0.9005\n",
            "Epoch 23/100\n",
            "1200/1200 [==============================] - 5s 4ms/step - loss: 0.0865 - accuracy: 0.9679 - val_loss: 0.3887 - val_accuracy: 0.9014\n",
            "Epoch 24/100\n",
            "1200/1200 [==============================] - 5s 4ms/step - loss: 0.0846 - accuracy: 0.9672 - val_loss: 0.3939 - val_accuracy: 0.9025\n",
            "Epoch 25/100\n",
            "1200/1200 [==============================] - 5s 4ms/step - loss: 0.0845 - accuracy: 0.9681 - val_loss: 0.3967 - val_accuracy: 0.8998\n",
            "Epoch 26/100\n",
            "1200/1200 [==============================] - 6s 5ms/step - loss: 0.0829 - accuracy: 0.9682 - val_loss: 0.3995 - val_accuracy: 0.9042\n",
            "Epoch 27/100\n",
            "1200/1200 [==============================] - 6s 5ms/step - loss: 0.0806 - accuracy: 0.9703 - val_loss: 0.4312 - val_accuracy: 0.8987\n",
            "Epoch 28/100\n",
            "1200/1200 [==============================] - 5s 4ms/step - loss: 0.0762 - accuracy: 0.9714 - val_loss: 0.4163 - val_accuracy: 0.9022\n",
            "Epoch 29/100\n",
            "1200/1200 [==============================] - 6s 5ms/step - loss: 0.0773 - accuracy: 0.9712 - val_loss: 0.4857 - val_accuracy: 0.8835\n",
            "Epoch 30/100\n",
            "1200/1200 [==============================] - 6s 5ms/step - loss: 0.0766 - accuracy: 0.9704 - val_loss: 0.4270 - val_accuracy: 0.9037\n",
            "Epoch 31/100\n",
            "1200/1200 [==============================] - 5s 4ms/step - loss: 0.0706 - accuracy: 0.9741 - val_loss: 0.4254 - val_accuracy: 0.9011\n",
            "Epoch 32/100\n",
            "1200/1200 [==============================] - 6s 5ms/step - loss: 0.0692 - accuracy: 0.9743 - val_loss: 0.4839 - val_accuracy: 0.8987\n",
            "Epoch 33/100\n",
            "1200/1200 [==============================] - 5s 4ms/step - loss: 0.0691 - accuracy: 0.9742 - val_loss: 0.5149 - val_accuracy: 0.8836\n",
            "Epoch 34/100\n",
            "1200/1200 [==============================] - 5s 5ms/step - loss: 0.0664 - accuracy: 0.9760 - val_loss: 0.4421 - val_accuracy: 0.9016\n",
            "Epoch 35/100\n",
            "1200/1200 [==============================] - 5s 4ms/step - loss: 0.0642 - accuracy: 0.9757 - val_loss: 0.4435 - val_accuracy: 0.9019\n",
            "Epoch 36/100\n",
            "1200/1200 [==============================] - 5s 4ms/step - loss: 0.0631 - accuracy: 0.9770 - val_loss: 0.4670 - val_accuracy: 0.9011\n",
            "Epoch 37/100\n",
            "1200/1200 [==============================] - 5s 4ms/step - loss: 0.0623 - accuracy: 0.9765 - val_loss: 0.4953 - val_accuracy: 0.8940\n",
            "Epoch 38/100\n",
            "1200/1200 [==============================] - 6s 5ms/step - loss: 0.0604 - accuracy: 0.9771 - val_loss: 0.4755 - val_accuracy: 0.9001\n",
            "Epoch 39/100\n",
            "1200/1200 [==============================] - 5s 4ms/step - loss: 0.0622 - accuracy: 0.9762 - val_loss: 0.5027 - val_accuracy: 0.8956\n",
            "Epoch 40/100\n",
            "1200/1200 [==============================] - 6s 5ms/step - loss: 0.0607 - accuracy: 0.9779 - val_loss: 0.4447 - val_accuracy: 0.9008\n",
            "Epoch 41/100\n",
            "1200/1200 [==============================] - 5s 4ms/step - loss: 0.0554 - accuracy: 0.9791 - val_loss: 0.4840 - val_accuracy: 0.8963\n",
            "Epoch 42/100\n",
            "1200/1200 [==============================] - 6s 5ms/step - loss: 0.0559 - accuracy: 0.9796 - val_loss: 0.4710 - val_accuracy: 0.9022\n",
            "Epoch 43/100\n",
            "1200/1200 [==============================] - 5s 5ms/step - loss: 0.0582 - accuracy: 0.9786 - val_loss: 0.4620 - val_accuracy: 0.9038\n",
            "Epoch 44/100\n",
            "1200/1200 [==============================] - 5s 4ms/step - loss: 0.0520 - accuracy: 0.9810 - val_loss: 0.4913 - val_accuracy: 0.9073\n",
            "Epoch 45/100\n",
            "1200/1200 [==============================] - 6s 5ms/step - loss: 0.0534 - accuracy: 0.9808 - val_loss: 0.5054 - val_accuracy: 0.9028\n",
            "Epoch 46/100\n",
            "1200/1200 [==============================] - 6s 5ms/step - loss: 0.0549 - accuracy: 0.9797 - val_loss: 0.5013 - val_accuracy: 0.9047\n",
            "Epoch 47/100\n",
            "1200/1200 [==============================] - 5s 4ms/step - loss: 0.0508 - accuracy: 0.9809 - val_loss: 0.5593 - val_accuracy: 0.8904\n",
            "Epoch 48/100\n",
            "1200/1200 [==============================] - 6s 5ms/step - loss: 0.0520 - accuracy: 0.9805 - val_loss: 0.4963 - val_accuracy: 0.9069\n",
            "Epoch 49/100\n",
            "1200/1200 [==============================] - 5s 5ms/step - loss: 0.0498 - accuracy: 0.9819 - val_loss: 0.4919 - val_accuracy: 0.9013\n",
            "Epoch 50/100\n",
            "1200/1200 [==============================] - 6s 5ms/step - loss: 0.0521 - accuracy: 0.9815 - val_loss: 0.4918 - val_accuracy: 0.9037\n",
            "Epoch 51/100\n",
            "1200/1200 [==============================] - 5s 4ms/step - loss: 0.0498 - accuracy: 0.9816 - val_loss: 0.4990 - val_accuracy: 0.8999\n",
            "Epoch 52/100\n",
            "1200/1200 [==============================] - 5s 5ms/step - loss: 0.0472 - accuracy: 0.9822 - val_loss: 0.5358 - val_accuracy: 0.8974\n",
            "Epoch 53/100\n",
            "1200/1200 [==============================] - 5s 5ms/step - loss: 0.0494 - accuracy: 0.9822 - val_loss: 0.4939 - val_accuracy: 0.9066\n",
            "Epoch 54/100\n",
            "1200/1200 [==============================] - 6s 5ms/step - loss: 0.0431 - accuracy: 0.9841 - val_loss: 0.5303 - val_accuracy: 0.9021\n",
            "Epoch 55/100\n",
            "1200/1200 [==============================] - 5s 5ms/step - loss: 0.0455 - accuracy: 0.9834 - val_loss: 0.5126 - val_accuracy: 0.9021\n",
            "Epoch 56/100\n",
            "1200/1200 [==============================] - 5s 4ms/step - loss: 0.0482 - accuracy: 0.9829 - val_loss: 0.4942 - val_accuracy: 0.8992\n",
            "Epoch 57/100\n",
            "1200/1200 [==============================] - 5s 4ms/step - loss: 0.0430 - accuracy: 0.9841 - val_loss: 0.5039 - val_accuracy: 0.9063\n",
            "Epoch 58/100\n",
            "1200/1200 [==============================] - 6s 5ms/step - loss: 0.0431 - accuracy: 0.9843 - val_loss: 0.5290 - val_accuracy: 0.9010\n",
            "Epoch 59/100\n",
            "1200/1200 [==============================] - 5s 4ms/step - loss: 0.0439 - accuracy: 0.9839 - val_loss: 0.5142 - val_accuracy: 0.9024\n",
            "Epoch 60/100\n",
            "1200/1200 [==============================] - 6s 5ms/step - loss: 0.0463 - accuracy: 0.9828 - val_loss: 0.5230 - val_accuracy: 0.9028\n",
            "Epoch 61/100\n",
            "1200/1200 [==============================] - 6s 5ms/step - loss: 0.0426 - accuracy: 0.9849 - val_loss: 0.5567 - val_accuracy: 0.9004\n",
            "Epoch 62/100\n",
            "1200/1200 [==============================] - 6s 5ms/step - loss: 0.0402 - accuracy: 0.9855 - val_loss: 0.5332 - val_accuracy: 0.9011\n",
            "Epoch 63/100\n",
            "1200/1200 [==============================] - 5s 4ms/step - loss: 0.0411 - accuracy: 0.9854 - val_loss: 0.5253 - val_accuracy: 0.9005\n",
            "Epoch 64/100\n",
            "1200/1200 [==============================] - 6s 5ms/step - loss: 0.0392 - accuracy: 0.9854 - val_loss: 0.5183 - val_accuracy: 0.9073\n",
            "Epoch 65/100\n",
            "1200/1200 [==============================] - 5s 5ms/step - loss: 0.0377 - accuracy: 0.9861 - val_loss: 0.5606 - val_accuracy: 0.9049\n",
            "Epoch 66/100\n",
            "1200/1200 [==============================] - 6s 5ms/step - loss: 0.0399 - accuracy: 0.9858 - val_loss: 0.5643 - val_accuracy: 0.8974\n",
            "Epoch 67/100\n",
            "1200/1200 [==============================] - 6s 5ms/step - loss: 0.0409 - accuracy: 0.9852 - val_loss: 0.5470 - val_accuracy: 0.9002\n",
            "Epoch 68/100\n",
            "1200/1200 [==============================] - 6s 5ms/step - loss: 0.0362 - accuracy: 0.9866 - val_loss: 0.5190 - val_accuracy: 0.9055\n",
            "Epoch 69/100\n",
            "1200/1200 [==============================] - 6s 5ms/step - loss: 0.0384 - accuracy: 0.9859 - val_loss: 0.5566 - val_accuracy: 0.9051\n",
            "Epoch 70/100\n",
            "1200/1200 [==============================] - 6s 5ms/step - loss: 0.0382 - accuracy: 0.9859 - val_loss: 0.5296 - val_accuracy: 0.9002\n",
            "Epoch 71/100\n",
            "1200/1200 [==============================] - 5s 5ms/step - loss: 0.0394 - accuracy: 0.9859 - val_loss: 0.5952 - val_accuracy: 0.8984\n",
            "Epoch 72/100\n",
            "1200/1200 [==============================] - 5s 4ms/step - loss: 0.0376 - accuracy: 0.9872 - val_loss: 0.5617 - val_accuracy: 0.9022\n",
            "Epoch 73/100\n",
            "1200/1200 [==============================] - 6s 5ms/step - loss: 0.0368 - accuracy: 0.9862 - val_loss: 0.6354 - val_accuracy: 0.8902\n",
            "Epoch 74/100\n",
            "1200/1200 [==============================] - 6s 5ms/step - loss: 0.0366 - accuracy: 0.9864 - val_loss: 0.5470 - val_accuracy: 0.9018\n",
            "Epoch 75/100\n",
            "1200/1200 [==============================] - 6s 5ms/step - loss: 0.0354 - accuracy: 0.9876 - val_loss: 0.5859 - val_accuracy: 0.9041\n",
            "Epoch 76/100\n",
            "1200/1200 [==============================] - 5s 5ms/step - loss: 0.0350 - accuracy: 0.9876 - val_loss: 0.5970 - val_accuracy: 0.8991\n",
            "Epoch 77/100\n",
            "1200/1200 [==============================] - 6s 5ms/step - loss: 0.0336 - accuracy: 0.9879 - val_loss: 0.5865 - val_accuracy: 0.9056\n",
            "Epoch 78/100\n",
            "1200/1200 [==============================] - 6s 5ms/step - loss: 0.0358 - accuracy: 0.9874 - val_loss: 0.5621 - val_accuracy: 0.9036\n",
            "Epoch 79/100\n",
            "1200/1200 [==============================] - 5s 5ms/step - loss: 0.0341 - accuracy: 0.9880 - val_loss: 0.5529 - val_accuracy: 0.9025\n",
            "Epoch 80/100\n",
            "1200/1200 [==============================] - 5s 5ms/step - loss: 0.0359 - accuracy: 0.9873 - val_loss: 0.5433 - val_accuracy: 0.9025\n",
            "Epoch 81/100\n",
            "1200/1200 [==============================] - 5s 5ms/step - loss: 0.0330 - accuracy: 0.9882 - val_loss: 0.5853 - val_accuracy: 0.9013\n",
            "Epoch 82/100\n",
            "1200/1200 [==============================] - 6s 5ms/step - loss: 0.0326 - accuracy: 0.9876 - val_loss: 0.6221 - val_accuracy: 0.9002\n",
            "Epoch 83/100\n",
            "1200/1200 [==============================] - 6s 5ms/step - loss: 0.0365 - accuracy: 0.9870 - val_loss: 0.6150 - val_accuracy: 0.8991\n",
            "Epoch 84/100\n",
            "1200/1200 [==============================] - 6s 5ms/step - loss: 0.0346 - accuracy: 0.9876 - val_loss: 0.5878 - val_accuracy: 0.9021\n",
            "Epoch 85/100\n",
            "1200/1200 [==============================] - 6s 5ms/step - loss: 0.0345 - accuracy: 0.9878 - val_loss: 0.5792 - val_accuracy: 0.8996\n",
            "Epoch 86/100\n",
            "1200/1200 [==============================] - 6s 5ms/step - loss: 0.0300 - accuracy: 0.9889 - val_loss: 0.6351 - val_accuracy: 0.8953\n",
            "Epoch 87/100\n",
            "1200/1200 [==============================] - 6s 5ms/step - loss: 0.0329 - accuracy: 0.9883 - val_loss: 0.5944 - val_accuracy: 0.9000\n",
            "Epoch 88/100\n",
            "1200/1200 [==============================] - 6s 5ms/step - loss: 0.0327 - accuracy: 0.9884 - val_loss: 0.6039 - val_accuracy: 0.9027\n",
            "Epoch 89/100\n",
            "1200/1200 [==============================] - 5s 5ms/step - loss: 0.0319 - accuracy: 0.9887 - val_loss: 0.5831 - val_accuracy: 0.9028\n",
            "Epoch 90/100\n",
            "1200/1200 [==============================] - 6s 5ms/step - loss: 0.0298 - accuracy: 0.9891 - val_loss: 0.6699 - val_accuracy: 0.8938\n",
            "Epoch 91/100\n",
            "1200/1200 [==============================] - 6s 5ms/step - loss: 0.0307 - accuracy: 0.9889 - val_loss: 0.5596 - val_accuracy: 0.8995\n",
            "Epoch 92/100\n",
            "1200/1200 [==============================] - 5s 5ms/step - loss: 0.0316 - accuracy: 0.9887 - val_loss: 0.5768 - val_accuracy: 0.9015\n",
            "Epoch 93/100\n",
            "1200/1200 [==============================] - 5s 5ms/step - loss: 0.0300 - accuracy: 0.9894 - val_loss: 0.5679 - val_accuracy: 0.9020\n",
            "Epoch 94/100\n",
            "1200/1200 [==============================] - 5s 5ms/step - loss: 0.0286 - accuracy: 0.9902 - val_loss: 0.6029 - val_accuracy: 0.9037\n",
            "Epoch 95/100\n",
            "1200/1200 [==============================] - 6s 5ms/step - loss: 0.0321 - accuracy: 0.9886 - val_loss: 0.6015 - val_accuracy: 0.9030\n",
            "Epoch 96/100\n",
            "1200/1200 [==============================] - 5s 5ms/step - loss: 0.0318 - accuracy: 0.9886 - val_loss: 0.6120 - val_accuracy: 0.9017\n",
            "Epoch 97/100\n",
            "1200/1200 [==============================] - 6s 5ms/step - loss: 0.0304 - accuracy: 0.9891 - val_loss: 0.6103 - val_accuracy: 0.9023\n",
            "Epoch 98/100\n",
            "1200/1200 [==============================] - 6s 5ms/step - loss: 0.0303 - accuracy: 0.9891 - val_loss: 0.6059 - val_accuracy: 0.9048\n",
            "Epoch 99/100\n",
            "1200/1200 [==============================] - 6s 5ms/step - loss: 0.0283 - accuracy: 0.9894 - val_loss: 0.6197 - val_accuracy: 0.9018\n",
            "Epoch 100/100\n",
            "1200/1200 [==============================] - 5s 5ms/step - loss: 0.0272 - accuracy: 0.9903 - val_loss: 0.6385 - val_accuracy: 0.8987\n"
          ]
        }
      ]
    },
    {
      "cell_type": "markdown",
      "source": [
        "##Save Model"
      ],
      "metadata": {
        "id": "kEHSw68VRE81"
      }
    },
    {
      "cell_type": "code",
      "source": [
        "model.save(path + 'keras_model')"
      ],
      "metadata": {
        "colab": {
          "base_uri": "https://localhost:8080/"
        },
        "id": "xHyCHS3eDEjI",
        "outputId": "d97249bc-5b52-497b-dd82-d71226e0e0aa"
      },
      "execution_count": null,
      "outputs": [
        {
          "output_type": "stream",
          "name": "stdout",
          "text": [
            "INFO:tensorflow:Assets written to: /content/drive/MyDrive/IST 718keras_model/assets\n"
          ]
        }
      ]
    },
    {
      "cell_type": "code",
      "source": [
        "# model = keras.models.load_model(path + 'keras_model')"
      ],
      "metadata": {
        "id": "LTwivUWnFiIh"
      },
      "execution_count": null,
      "outputs": []
    },
    {
      "cell_type": "markdown",
      "source": [
        "##Look at model history"
      ],
      "metadata": {
        "id": "lUZNoqfTRJHx"
      }
    },
    {
      "cell_type": "code",
      "source": [
        "print(history.history.keys())"
      ],
      "metadata": {
        "colab": {
          "base_uri": "https://localhost:8080/"
        },
        "id": "yVMgSBluFleK",
        "outputId": "487cfd94-00ab-4310-9f23-b17a1d4c9d42"
      },
      "execution_count": null,
      "outputs": [
        {
          "output_type": "stream",
          "name": "stdout",
          "text": [
            "dict_keys(['loss', 'accuracy', 'val_loss', 'val_accuracy'])\n"
          ]
        }
      ]
    },
    {
      "cell_type": "code",
      "source": [
        "# summarize history for accuracy\n",
        "plt.plot(history.history['val_accuracy'])\n",
        "plt.plot(history.history['accuracy'])\n",
        "plt.title('model accuracy')\n",
        "plt.ylabel('accuracy')\n",
        "plt.xlabel('epoch')\n",
        "plt.legend(['train', 'val'], loc='upper left')\n",
        "plt.show()"
      ],
      "metadata": {
        "colab": {
          "base_uri": "https://localhost:8080/",
          "height": 301
        },
        "id": "S_QsSh3dFneI",
        "outputId": "1e333f2c-6618-4bb2-ec2f-8e05964fa930"
      },
      "execution_count": null,
      "outputs": [
        {
          "output_type": "display_data",
          "data": {
            "text/plain": [
              "<Figure size 432x288 with 1 Axes>"
            ],
            "image/png": "[encoded data removed]"
          },
          "metadata": {
            "needs_background": "light"
          }
        }
      ]
    },
    {
      "cell_type": "code",
      "source": [
        "# summarize history for loss\n",
        "plt.plot(history.history['val_loss'])\n",
        "plt.plot(history.history['loss'])\n",
        "plt.title('model loss')\n",
        "plt.ylabel('loss')\n",
        "plt.xlabel('epoch')\n",
        "plt.legend(['train', 'val'], loc='upper left')\n",
        "plt.show()"
      ],
      "metadata": {
        "colab": {
          "base_uri": "https://localhost:8080/",
          "height": 301
        },
        "id": "4nQAfzhyFphY",
        "outputId": "5654b1f1-7458-43de-afd5-22e8b15369ed"
      },
      "execution_count": null,
      "outputs": [
        {
          "output_type": "display_data",
          "data": {
            "text/plain": [
              "<Figure size 432x288 with 1 Axes>"
            ],
            "image/png": "[encoded data removed]"
          },
          "metadata": {
            "needs_background": "light"
          }
        }
      ]
    },
    {
      "cell_type": "code",
      "source": [
        "y_train_pred = np.argmax(model.predict(x_train.reshape(len(y_train),28,28,1)), axis=-1)\n",
        "\n",
        "if sys.version_info < (3, 0):\n",
        "    acc = (np.sum(y_train == y_train_pred, axis=0)).astype('float') / x_test.shape[0]\n",
        "else:\n",
        "    acc = np.sum(y_train == y_train_pred, axis=0) / x_train.shape[0]\n",
        "\n",
        "print('Test accuracy: %.2f%%' % (acc * 100))"
      ],
      "metadata": {
        "colab": {
          "base_uri": "https://localhost:8080/"
        },
        "id": "2C135quEGoIW",
        "outputId": "6dd06cc7-bcf7-42d0-8790-24bcc9730e1a"
      },
      "execution_count": null,
      "outputs": [
        {
          "output_type": "stream",
          "name": "stdout",
          "text": [
            "Test accuracy: 99.46%\n"
          ]
        }
      ]
    },
    {
      "cell_type": "markdown",
      "source": [
        "#Accuracy\n",
        "\n",
        "This model was by far the most accurate, it yielded a result of 99.46%."
      ],
      "metadata": {
        "id": "BysoUF-ORYAv"
      }
    },
    {
      "cell_type": "markdown",
      "source": [
        "#Conclusion\n",
        "\n",
        "In the end we can see the with this type of dataset, that the keras model works really well. The first model has the upperhand for speed, but if you are looking for accuracy, Keras would be the best choice. "
      ],
      "metadata": {
        "id": "6LHjXbCvRnyt"
      }
    },
    {
      "cell_type": "code",
      "source": [],
      "metadata": {
        "id": "ov9pPexQLnFz"
      },
      "execution_count": null,
      "outputs": []
    },
    {
      "cell_type": "markdown",
      "source": [],
      "metadata": {
        "id": "VbgqpHkMNyeC"
      }
    }
  ]
}